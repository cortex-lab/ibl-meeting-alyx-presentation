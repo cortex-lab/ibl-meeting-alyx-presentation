{
 "cells": [
  {
   "cell_type": "markdown",
   "metadata": {},
   "source": [
    "# Querying the Alyx database and downloading data"
   ]
  },
  {
   "cell_type": "markdown",
   "metadata": {},
   "source": [
    "* Next steps for us : easy-to-use interface to query the database and download the data.\n",
    "* But the building blocks are already there! This demo shows how to query the database and download some data using only standard Python tools."
   ]
  },
  {
   "cell_type": "markdown",
   "metadata": {},
   "source": [
    "Boilerplate import code: only builtin and common modules in Python and scientific Python."
   ]
  },
  {
   "cell_type": "code",
   "execution_count": 2,
   "metadata": {
    "collapsed": true
   },
   "outputs": [],
   "source": [
    "# Built-in Python modules\n",
    "from getpass import getpass\n",
    "from io import BytesIO\n",
    "import os.path as op\n",
    "\n",
    "# Standard third-party packages\n",
    "import requests\n",
    "from IPython.display import JSON, HTML\n",
    "\n",
    "# Scientific Python\n",
    "import numpy as np\n",
    "import matplotlib.pyplot as plt\n",
    "%matplotlib inline"
   ]
  },
  {
   "cell_type": "markdown",
   "metadata": {},
   "source": [
    "The base URL for the REST endpoints."
   ]
  },
  {
   "cell_type": "code",
   "execution_count": 3,
   "metadata": {
    "collapsed": true
   },
   "outputs": [],
   "source": [
    "BASEURL = \"https://alyx-dev.cortexlab.net\""
   ]
  },
  {
   "cell_type": "markdown",
   "metadata": {},
   "source": [
    "## Authentication"
   ]
  },
  {
   "cell_type": "markdown",
   "metadata": {},
   "source": [
    "Alyx login and password."
   ]
  },
  {
   "cell_type": "code",
   "execution_count": 4,
   "metadata": {},
   "outputs": [],
   "source": [
    "ALYXLOGIN = 'cyrille'\n",
    "ALYXPWD = getpass()"
   ]
  },
  {
   "cell_type": "markdown",
   "metadata": {},
   "source": [
    "Flatiron data server login and password."
   ]
  },
  {
   "cell_type": "code",
   "execution_count": 5,
   "metadata": {
    "collapsed": true
   },
   "outputs": [],
   "source": [
    "FLATIRONLOGIN = 'ibl'\n",
    "FLATIRONPWD = getpass()"
   ]
  },
  {
   "cell_type": "markdown",
   "metadata": {},
   "source": [
    "To authenticate, we do a POST HTTP request to `/auth-token` with the login and password, and we get a token."
   ]
  },
  {
   "cell_type": "code",
   "execution_count": 6,
   "metadata": {},
   "outputs": [
    {
     "data": {
      "text/plain": [
       "{'token': 'de1343e1ff80b95e4a55a4a071004a121436cc61'}"
      ]
     },
     "execution_count": 6,
     "metadata": {},
     "output_type": "execute_result"
    }
   ],
   "source": [
    "requests.post(BASEURL + '/auth-token', data=dict(username=ALYXLOGIN, password=ALYXPWD)).json()"
   ]
  },
  {
   "cell_type": "code",
   "execution_count": 7,
   "metadata": {},
   "outputs": [],
   "source": [
    "token = _['token']"
   ]
  },
  {
   "cell_type": "markdown",
   "metadata": {},
   "source": [
    "Now, we make authenticated GET requests by passing the token in the HTTP headers."
   ]
  },
  {
   "cell_type": "code",
   "execution_count": 8,
   "metadata": {
    "collapsed": true
   },
   "outputs": [],
   "source": [
    "def get(url):\n",
    "    return JSON(requests.get(url, headers={\"Authorization\": \"Token \" + token}).json())"
   ]
  },
  {
   "cell_type": "markdown",
   "metadata": {},
   "source": [
    "## First steps with the REST API"
   ]
  },
  {
   "cell_type": "markdown",
   "metadata": {},
   "source": [
    "We use the standard `requests` module to make HTTP requests to the endpoints."
   ]
  },
  {
   "cell_type": "code",
   "execution_count": 9,
   "metadata": {},
   "outputs": [
    {
     "data": {
      "application/json": {
       "dataformat-url": "https://alyx-dev.cortexlab.net/data-formats",
       "datarepository-url": "https://alyx-dev.cortexlab.net/data-repository",
       "datarepositorytype-url": "https://alyx-dev.cortexlab.net/data-repository-type",
       "dataset-types-url": "https://alyx-dev.cortexlab.net/dataset-types",
       "datasets-url": "https://alyx-dev.cortexlab.net/datasets",
       "exp-metadata-url": "https://alyx-dev.cortexlab.net/exp-metadata",
       "files-url": "https://alyx-dev.cortexlab.net/files",
       "register-file": "https://alyx-dev.cortexlab.net/register-file",
       "sessions-url": "https://alyx-dev.cortexlab.net/sessions",
       "subjects-url": "https://alyx-dev.cortexlab.net/subjects",
       "timescales-url": "https://alyx-dev.cortexlab.net/timescales",
       "users-url": "https://alyx-dev.cortexlab.net/users",
       "water-administrations-url": "https://alyx-dev.cortexlab.net/water-administrations",
       "water-requirement-url": "https://alyx-dev.cortexlab.net/water-requirement/",
       "water-restricted-subjects-url": "https://alyx-dev.cortexlab.net/water-restricted-subjects",
       "weighings-url": "https://alyx-dev.cortexlab.net/weighings"
      },
      "text/plain": [
       "<IPython.core.display.JSON object>"
      ]
     },
     "execution_count": 9,
     "metadata": {
      "application/json": {
       "expanded": false
      }
     },
     "output_type": "execute_result"
    }
   ],
   "source": [
    "get(BASEURL)"
   ]
  },
  {
   "cell_type": "markdown",
   "metadata": {},
   "source": [
    "By default, the base URL shows the list of available endpoints."
   ]
  },
  {
   "cell_type": "markdown",
   "metadata": {},
   "source": [
    "Let's see the list of users:"
   ]
  },
  {
   "cell_type": "code",
   "execution_count": 10,
   "metadata": {
    "scrolled": true
   },
   "outputs": [
    {
     "data": {
      "application/json": {
       "count": 43,
       "next": null,
       "previous": null,
       "results": [
        {
         "email": "pipcoen@gmail.com",
         "id": 16,
         "subjects_responsible": [
          "Ai32cg.Pv_0015",
          "Ai32cg.Pv_0067",
          "Ai32cg.Pv_0068",
          "Ai32cg.Pv_0069",
          "LEW_001",
          "PC010",
          "PC011",
          "PC012",
          "PC013",
          "PC015",
          "PC016",
          "PC017",
          "PC021",
          "PC022",
          "PC023",
          "PC024",
          "PC025",
          "PC026",
          "PC027",
          "PC029",
          "TetO.CtTa_IoO46"
         ],
         "username": "pip"
        },
        {
         "email": "peters.andrew.j@gmail.com",
         "id": 10,
         "subjects_responsible": [
          "AP012",
          "AP013",
          "AP014",
          "AP015",
          "AP016",
          "AP017",
          "AP018",
          "AP019",
          "AP020",
          "AP024",
          "AP025",
          "AP026",
          "AP027",
          "AP028",
          "AP029",
          "AP030",
          "AP031",
          "PC028"
         ],
         "username": "andy"
        },
        {
         "email": "nick.steinmetz@gmail.com",
         "id": 2,
         "subjects_responsible": [
          "Ai32cg.Pv_0024",
          "Beadle",
          "Bekesy",
          "Bovet",
          "Chain",
          "Cournand",
          "CR02",
          "Enders",
          "Forssmann",
          "Hench",
          "Hess",
          "Kendall",
          "Krebs",
          "Lederberg",
          "Lipmann",
          "Moniz",
          "Reichstein",
          "Richards",
          "Robbins",
          "Sim1.Ai148_0001",
          "Sim1.Ai148_0002",
          "Tatum",
          "test",
          "Theiler",
          "Theorell",
          "Waksman",
          "Weller",
          "Wilkins"
         ],
         "username": "nick"
        },
        {
         "email": "l.wool@ucl.ac.uk",
         "id": 28,
         "subjects_responsible": [
          "Ai78.CtTa.Emx_0003",
          "C57_0055",
          "LEW_003",
          "LEW004",
          "LEW005",
          "LEW006",
          "RCL_0020",
          "TetO.CtTa_0157",
          "TetO.CtTa_0158",
          "TetO.CtTa_0318",
          "TetO.CtTa_0319"
         ],
         "username": "lauren"
        },
        {
         "email": "marius10p@gmail.com",
         "id": 15,
         "subjects_responsible": [
          "GAD.TdT1",
          "Gad.TdT2",
          "MP030"
         ],
         "username": "marius"
        },
        {
         "email": "justjules.fournier@gmail.com",
         "id": 22,
         "subjects_responsible": [
          "M180112_MIK",
          "M180116_MIK"
         ],
         "username": "julien"
        },
        {
         "email": "",
         "id": 17,
         "subjects_responsible": [],
         "username": "matteo"
        },
        {
         "email": "luigi.rossi.12@ucl.ac.uk",
         "id": 23,
         "subjects_responsible": [
          "FR117",
          "FR118",
          "FR119",
          "FR120",
          "FR121",
          "FR122",
          "FR123",
          "FR124",
          "FR125",
          "FR126",
          "FR127",
          "FR128",
          "FR129",
          "FR130",
          "TetO.CtTa_0211"
         ],
         "username": "federico"
        },
        {
         "email": "m.okun@ucl.ac.uk",
         "id": 19,
         "subjects_responsible": [],
         "username": "mush"
        },
        {
         "email": "daisuke@cortexlab.net",
         "id": 20,
         "subjects_responsible": [
          "Ai78.CtTa.Emx_0026",
          "Ai78.CtTa.Emx_0027",
          "Ai78.CtTa.Emx_0056",
          "Ai78.CtTa.Emx_0057",
          "Ai78.CtTa.Emx_0058",
          "Ai78.CtTa.Emx_0059",
          "DS_PS001"
         ],
         "username": "daisuke"
        },
        {
         "email": "philip.shamash.17@ucl.ac.uk",
         "id": 42,
         "subjects_responsible": [],
         "username": "Philip"
        },
        {
         "email": "claire.xy@gmail.com",
         "id": 25,
         "subjects_responsible": [],
         "username": "claire"
        },
        {
         "email": "carsen.stringer@gmail.com",
         "id": 26,
         "subjects_responsible": [],
         "username": "carsen"
        },
        {
         "email": "bugeon.stephane@gmail.com",
         "id": 43,
         "subjects_responsible": [],
         "username": "Stephane"
        },
        {
         "email": "morgane.moss.17@ucl.ac.uk",
         "id": 32,
         "subjects_responsible": [],
         "username": "Morgane"
        },
        {
         "email": "anuta278@yandex.ru",
         "id": 40,
         "subjects_responsible": [
          "AL001",
          "AL_002",
          "AL_003"
         ],
         "username": "Anna"
        },
        {
         "email": "max@huntershome.org",
         "id": 1,
         "subjects_responsible": [],
         "username": "max"
        },
        {
         "email": "samuel.failor@gmail.com",
         "id": 14,
         "subjects_responsible": [
          "KHA_0036",
          "KHA_0047",
          "KHA_0071",
          "M161007_SF",
          "SF161129",
          "SF161208",
          "SF170215",
          "SF170310",
          "SF170316",
          "SF170323",
          "SF170404",
          "SF170509",
          "SF170518",
          "SF170523",
          "SF170530",
          "SF170606A",
          "SF170606B",
          "SF170620A",
          "SF170620B",
          "SF170711",
          "SF170823",
          "SF170905A",
          "SF170905B",
          "SF171010",
          "SF171010A",
          "SF171024A",
          "SF171107",
          "SF180109",
          "SF180123",
          "SF180222",
          "SF180404",
          "SF180426",
          "SF180508",
          "SF180515",
          "TetO.CtTa_0108",
          "TetO.CtTa_0174",
          "TetO.CtTa_0290"
         ],
         "username": "sam"
        },
        {
         "email": "elina.jacobs.13@ucl.ac.uk",
         "id": 24,
         "subjects_responsible": [],
         "username": "elina"
        },
        {
         "email": "harshagurnani@gmail.com",
         "id": 30,
         "subjects_responsible": [],
         "username": "harsha"
        },
        {
         "email": "julie.lee.15@ucl.ac.uk",
         "id": 27,
         "subjects_responsible": [
          "JL004",
          "JL005",
          "JL008",
          "JL009",
          "JL010",
          "JL012",
          "JL015",
          "JL016",
          "JL017",
          "JL018",
          "JL019",
          "JL020",
          "JL021",
          "JL022",
          "JL023",
          "JL024",
          "JL025",
          "LEW_002",
          "TetO.CtTa_0027",
          "TetO.CtTa_IoO51"
         ],
         "username": "julie"
        },
        {
         "email": "karolina.farrell@ucl.ac.uk",
         "id": 33,
         "subjects_responsible": [],
         "username": "Karolina"
        },
        {
         "email": "i.lin@ucl.ac.uk",
         "id": 11,
         "subjects_responsible": [
          "M170131_ICNK_BL",
          "M170201_ICNK_ML",
          "M170214_ICTP",
          "M170215_ICTP",
          "M170308_ICT",
          "M170310_ICT",
          "M170323_ICNK",
          "M170329_ICNK",
          "M170522_ICT",
          "M170602_ICT",
          "M170614_ICT",
          "M180320_ICPA1",
          "M180320_ICPA2",
          "M180320_ICT1",
          "M180320_ICT2",
          "M180409_ICPA1",
          "M180409_ICPA2",
          "Thy18_0044",
          "Thy18_0045"
         ],
         "username": "i-chun"
        },
        {
         "email": "m.dipoppa@ucl.ac.uk",
         "id": 29,
         "subjects_responsible": [
          "MD0ST3",
          "MD0ST4",
          "MD0ST5",
          "MD0ST6",
          "MD0ST7",
          "MD0ST8",
          "MD0ST9"
         ],
         "username": "mario"
        },
        {
         "email": "hauling.thomas@gmail.com",
         "id": 37,
         "subjects_responsible": [],
         "username": "Thomas"
        },
        {
         "email": "rmhklfu@ucl.ac.uk",
         "id": 7,
         "subjects_responsible": [],
         "username": "laura"
        },
        {
         "email": "matteo.alleman.14@ucl.ac.uk",
         "id": 36,
         "subjects_responsible": [],
         "username": "MatteoA"
        },
        {
         "email": "c.reddy@ucl.ac.uk",
         "id": 5,
         "subjects_responsible": [
          "-",
          "2P_Sylgard_1",
          "Ai148_0001",
          "Ai148_0002",
          "Ai148_0003",
          "Ai148_0004",
          "Ai148_0005",
          "Ai148_0006",
          "Ai148_0007",
          "Ai148_0008",
          "Ai148_0009",
          "Ai148_0010",
          "Ai148_0011",
          "Ai148_0012",
          "Ai148_0013",
          "Ai148_0014",
          "Ai148_0015",
          "Ai148_0016",
          "Ai148_0017",
          "Ai148_0018",
          "Ai148_0019",
          "Ai148_0020",
          "Ai148_0021",
          "Ai148_0022",
          "Ai148_0023",
          "Ai148_0024",
          "Ai148_0025",
          "Ai148_0026",
          "Ai148_0027",
          "Ai148_0028",
          "Ai148_0029",
          "Ai148_0030",
          "Ai148_0031",
          "Ai148_0032",
          "Ai148_0033",
          "Ai148_0034",
          "Ai148_0035",
          "Ai148_0036",
          "Ai148_0037",
          "Ai148_0038",
          "Ai148_0039",
          "Ai148_0040",
          "Ai148_0041",
          "Ai148_0042",
          "Ai148_0043",
          "Ai148_0044",
          "Ai148_0045",
          "Ai148_0046",
          "Ai148_0047",
          "Ai148_0048",
          "Ai148_0049",
          "Ai148_0050",
          "Ai148_0051",
          "Ai148_0052",
          "Ai148_0053",
          "Ai148_0054",
          "Ai148_0055",
          "Ai148_0056",
          "Ai148_0057",
          "Ai148_0059",
          "Ai148_0060",
          "Ai148_0061",
          "Ai148.DA_0001",
          "Ai148.DA_0002",
          "Ai148.DA_0003",
          "Ai148.DA_0004",
          "Ai148.DA_0005",
          "Ai148.DA_0006",
          "Ai148.DA_0007",
          "Ai148.DA_0008",
          "Ai148.DA_0009",
          "Ai148.DA_0010",
          "Ai148.DA_0011",
          "Ai148.DA_0012",
          "Ai148.Vg_0001",
          "Ai148.Vg_0002",
          "Ai148.Vg_0003",
          "Ai148.Vg_0006",
          "Ai148.Vg_0007",
          "Ai148.Vg_0008",
          "Ai148.Vg_0009",
          "Ai148.Vg_0010",
          "Ai148.Vg_0011",
          "Ai148.Vg_0013",
          "Ai148.Vg_0014",
          "Ai148.Vg_0015",
          "Ai148.Vg_0018",
          "Ai148.Vg_0019",
          "Ai148.Vg_0020",
          "Ai148.Vg_0021",
          "Ai148.Vg_0022",
          "Ai148.Vg_0023",
          "Ai148.Vg_0025",
          "Ai148.Vg_0026",
          "Ai148.Vg_0027",
          "Ai148.Vg_0028",
          "Ai148.Vg_0029",
          "Ai148.Vg_0030",
          "Ai148.Vg_0031",
          "Ai148.Vg_0032",
          "Ai148.Vg_0033",
          "Ai148.Vg_0034",
          "Ai148.Vg_0035",
          "Ai148.Vg_0036",
          "Ai148.Vg_0037",
          "Ai148.Vg_0038",
          "Ai148.Vg_0039",
          "Ai148.Vg_0040",
          "Ai32_0001",
          "Ai32_0002",
          "Ai32_0003",
          "Ai32_0004",
          "Ai32_0005",
          "Ai32_0006",
          "Ai32_0007",
          "Ai32_0008",
          "Ai32_0009",
          "Ai32_0010",
          "Ai32_0011",
          "Ai32_0012",
          "Ai32_0013",
          "Ai32cg_0001_Breeding",
          "Ai32cg_0002_Breeding",
          "Ai32cg_0003_Breeding",
          "Ai32cg_0004_Breeding",
          "Ai32cg_0005",
          "Ai32cg_0006",
          "Ai32cg_0007",
          "Ai32cg_0008",
          "Ai32cg_0009",
          "Ai32cg_0010",
          "Ai32cg_0011",
          "Ai32cg_0012",
          "Ai32cg_0013",
          "Ai32cg_0014",
          "Ai32cg_0015",
          "Ai32cg_0016",
          "Ai32cg_0017",
          "Ai32cg_0018",
          "Ai32cg_0019",
          "Ai32cg_0020",
          "Ai32cg_0021",
          "Ai32cg_0022",
          "Ai32cg_0023",
          "Ai32cg_0024",
          "Ai32cg_0025",
          "Ai32cg_0026",
          "Ai32cg_0027",
          "Ai32cg_0028",
          "Ai32cg_0029",
          "Ai32cg_0030",
          "Ai32cg_0031",
          "Ai32cg_0032",
          "Ai32cg_0034",
          "Ai32cg_0035",
          "Ai32cg_0036",
          "Ai32cg_0037",
          "Ai32cg_0039",
          "Ai32cg_0040_Breeding",
          "Ai32cg_0041",
          "Ai32cg_0042_Breeding",
          "Ai32cg_0043",
          "Ai32cg_0044",
          "Ai32cg_0045",
          "Ai32cg_0046_Breeding",
          "Ai32cg_0047",
          "Ai32cg_0048",
          "Ai32cg_0049",
          "Ai32cg_0050",
          "Ai32cg_0051",
          "Ai32cg_0052",
          "Ai32cg.Pv_0004",
          "Ai32cg.Pv_0005",
          "Ai32cg.Pv_0018",
          "Ai32cg.Pv_0026",
          "Ai32cg.Pv_0027",
          "Ai32cg.Pv_0028",
          "Ai32cg.Pv_0033",
          "Ai32cg.Pv_0037",
          "Ai32cg.Pv_0038",
          "Ai32cg.Pv_0039",
          "Ai32cg.Pv_0040",
          "Ai32cg.Pv_0041",
          "Ai32cg.Pv_0042",
          "Ai32cg.Pv_0043",
          "Ai32cg.Pv_0056",
          "Ai32cg.Pv_0065",
          "Ai32cg.Pv_0070",
          "Ai32cg.Pv_0071",
          "Ai32cg.Pv_0072",
          "Ai32cg.Pv_0073",
          "Ai32cg.Pv_0074",
          "Ai32cg.Pv_0075",
          "Ai32cg.Pv_0076",
          "Ai32cg.Pv_0077",
          "Ai32cg.Pv_0078",
          "Ai32cg.Pv_0079",
          "Ai32cg.Pv_0080",
          "Ai32cg.Pv_0081",
          "Ai32cg.Pv_0082",
          "Ai32cg.Pv_0083",
          "Ai32cg.Pv_0084",
          "Ai32cg.Pv_0085",
          "Ai32cg.Pv_0086",
          "Ai32_IoO49",
          "Ai32_IoO54",
          "Ai32_IoO56",
          "Ai32_IoO57",
          "Ai32_IoO60",
          "Ai32_IoO61",
          "Ai32_IoO62",
          "Ai32_IoO63",
          "Ai32_IoO64",
          "Ai32_IoO65",
          "Ai32_IoO66",
          "Ai32_IoO67",
          "Ai32.Pv_0001",
          "Ai32.Pv_0008",
          "Ai32.Pv_0010",
          "Ai32.Pv_0011",
          "Ai32.Pv_0012",
          "Ai32.Pv_0013",
          "Ai32.Pv_0014",
          "Ai32.Pv_0015",
          "Ai32.Pv_0016",
          "Ai32.Pv_0018",
          "Ai32.Pv_0019",
          "Ai32.Pv_0020",
          "Ai32.Pv_0021",
          "Ai32.Pv_0022",
          "Ai32.Pv_0023",
          "Ai32.Pv_0024",
          "Ai32.Pv_0028",
          "Ai32.Pv_IoO291",
          "Ai32.Pv_IoO292",
          "Ai32.Pv_IoO293",
          "Ai32.Pv_IoO294",
          "Ai32.Pv_IoO295",
          "Ai78.CtTa_0001",
          "Ai78.CtTa_0002",
          "Ai78.CtTa_0003",
          "Ai78.CtTa_0004",
          "Ai78.CtTa_0005",
          "Ai78.CtTa_0006",
          "Ai78.CtTa_0007",
          "Ai78.CtTa_0010",
          "Ai78.CtTa_0011",
          "Ai78.CtTa_0012",
          "Ai78.CtTa_0013",
          "Ai78.CtTa_0014",
          "Ai78.CtTa_0015",
          "Ai78.CtTa_0016",
          "Ai78.CtTa_0017",
          "Ai78.CtTa_0018",
          "Ai78.CtTa_0019",
          "Ai78.CtTa_0020",
          "Ai78.CtTa_0021",
          "Ai78.CtTa_0022",
          "Ai78.CtTa_0023",
          "Ai78.CtTa_0024",
          "Ai78.CtTa_0025",
          "Ai78.CtTa_0027",
          "Ai78.CtTa_0028_Breeding",
          "Ai78.CtTa_0029",
          "Ai78.CtTa_0030",
          "Ai78.CtTa_0031",
          "Ai78.CtTa_0032_Breeding",
          "Ai78.CtTa_0033",
          "Ai78.CtTa_0034",
          "Ai78.CtTa_0035",
          "Ai78.CtTa_0036",
          "Ai78.CtTa_0037",
          "Ai78.CtTa_0038",
          "Ai78.CtTa_0039",
          "Ai78.CtTa_0040",
          "Ai78.CtTa_0041",
          "Ai78.CtTa_0042",
          "Ai78.CtTa_0043",
          "Ai78.CtTa_0044",
          "Ai78.CtTa.Emx_0001",
          "Ai78.CtTa.Emx_0002",
          "Ai78.CtTa.Emx_0004",
          "Ai78.CtTa.Emx_0005",
          "Ai78.CtTa.Emx_0006",
          "Ai78.CtTa.Emx_0007",
          "Ai78.CtTa.Emx_0008",
          "Ai78.CtTa.Emx_0009",
          "Ai78.CtTa.Emx_0010",
          "Ai78.CtTa.Emx_0011",
          "Ai78.CtTa.Emx_0012",
          "Ai78.CtTa.Emx_0013",
          "Ai78.CtTa.Emx_0015",
          "Ai78.CtTa.Emx_0016",
          "Ai78.CtTa.Emx_0017",
          "Ai78.CtTa.Emx_0018",
          "Ai78.CtTa.Emx_0019",
          "Ai78.CtTa.Emx_0020",
          "Ai78.CtTa.Emx_0021",
          "Ai78.CtTa.Emx_0022",
          "Ai78.CtTa.Emx_0023",
          "Ai78.CtTa.Emx_0024",
          "Ai78.CtTa.Emx_0025",
          "Ai78.CtTa.Emx_0028",
          "Ai78.CtTa.Emx_0029",
          "Ai78.CtTa.Emx_0030",
          "Ai78.CtTa.Emx_0031",
          "Ai78.CtTa.Emx_0032",
          "Ai78.CtTa.Emx_0033",
          "Ai78.CtTa.Emx_0034",
          "Ai78.CtTa.Emx_0035",
          "Ai78.CtTa.Emx_0037",
          "Ai78.CtTa.Emx_0038",
          "Ai78.CtTa.Emx_0039",
          "Ai78.CtTa.Emx_0040",
          "Ai78.CtTa.Emx_0041",
          "Ai78.CtTa.Emx_0042",
          "Ai78.CtTa.Emx_0043",
          "Ai78.CtTa.Emx_0044",
          "Ai78.CtTa.Emx_0045",
          "Ai78.CtTa.Emx_0046",
          "Ai78.CtTa.Emx_0047",
          "Ai78.CtTa.Emx_0048",
          "Ai78.CtTa.Emx_0049",
          "Ai78.CtTa.Emx_0050",
          "Ai78.CtTa.Emx_0051",
          "Ai78.CtTa.Emx_0052",
          "Ai78.CtTa.Emx_0053",
          "Ai78.CtTa.Emx_0054",
          "Ai78.CtTa.Emx_0055",
          "Ai78.CtTa_IoO61",
          "Ai78.CtTa_IoO70",
          "Ai78.CtTa_IoO71",
          "Ai78.CtTa_IoO72",
          "Ai78.CtTa_IoO73",
          "Ai78.CtTa_IoO74",
          "ALK072",
          "C57_0001",
          "C57_0002",
          "C57_0003",
          "C57_0007",
          "C57_0008",
          "C57_0009",
          "C57_0010",
          "C57_0011",
          "C57_0012",
          "C57_0013",
          "C57_0014",
          "C57_0015",
          "C57_0016",
          "C57_0017",
          "C57_0018",
          "C57_0019",
          "C57_0020",
          "C57_0021",
          "C57_0022",
          "C57_0023",
          "C57_0024",
          "C57_0025",
          "C57_0026",
          "C57_0027",
          "C57_0028",
          "C57_0029",
          "C57_0030",
          "C57_0031",
          "C57_0032",
          "C57_0033",
          "C57_0034",
          "C57_0035",
          "C57_0036",
          "C57_0037",
          "C57_0039",
          "C57_0040",
          "C57_0041",
          "C57_0044",
          "C57_0045",
          "C57_0046",
          "C57_0047",
          "C57_0048",
          "C57_0050",
          "C57_0058",
          "C57_0059",
          "C57_0060",
          "C57_0063",
          "C57_0064",
          "C57_0065",
          "C57_0068_Breeding",
          "C57_0069_Breeding",
          "C57_0070_Breeding",
          "C57_0071",
          "C57_0073",
          "C57_0074",
          "C57_0075",
          "C57_0076_Breeding",
          "C57_0077_Breeding",
          "C57_0082",
          "C57_0083",
          "C57_0084",
          "C57_0085",
          "C57_0088",
          "C57_0089",
          "C57_0090",
          "C57_0091",
          "C57_0092",
          "C57_0093",
          "C57_0094",
          "C57_0095",
          "C57_IoO19",
          "C57_IoO20",
          "C57_IoO21",
          "C57_IoO22",
          "CR_004",
          "CR_005",
          "CR006",
          "CR007",
          "CR008",
          "CR009",
          "CtTa_0001",
          "CtTa_0002",
          "CtTa_0003",
          "CtTa_0004",
          "CtTa_0005",
          "CtTa_0006",
          "CtTa_0007",
          "CtTa_0008",
          "CtTa_0009",
          "CtTa_0010",
          "CtTa_0011",
          "CtTa_0012",
          "CtTa_0013",
          "CtTa_0014",
          "CtTa_0015",
          "CtTa_0016",
          "CtTa_0017",
          "CtTa_0018",
          "CtTa_0019",
          "CtTa_0020",
          "CtTa_0021",
          "CtTa_0022",
          "CtTa_0023",
          "CtTa_0024",
          "CtTa_0025",
          "CtTa_0026",
          "CtTa_0027",
          "CtTa_0028",
          "CtTa_0029",
          "CtTa_0030",
          "CtTa_0031",
          "CtTa_0032",
          "CtTa_0033",
          "CtTa_0034",
          "CtTa_0035",
          "CtTa_0036",
          "CtTa_0037",
          "CtTa_0038",
          "CtTa_0039",
          "CtTa_0040",
          "CtTa_0041",
          "CtTa_0042",
          "CtTa_0043",
          "CtTa_0044",
          "CtTa_0045",
          "CtTa_0046",
          "CtTa_0047",
          "CtTa_0048",
          "CtTa_0049",
          "CtTa_0050",
          "CtTa_0051",
          "CtTa_0052",
          "CtTa_0053",
          "CtTa_0054",
          "CtTa_0055",
          "CtTa_0056",
          "CtTa_0057",
          "CtTa_0058",
          "CtTa_0059",
          "CtTa_0060",
          "CtTa_0061",
          "CtTa_0062",
          "CtTa_0063",
          "CtTa_0064",
          "CtTa_0065",
          "CtTa_0066",
          "CtTa_0067",
          "CtTa_0068",
          "CtTa_0069",
          "CtTa_0070",
          "CtTa_0071",
          "CtTa_0072",
          "CtTa_0073",
          "CtTa_0074",
          "CtTa_0075",
          "CtTa_0076",
          "CtTa_0077",
          "CtTa_0078",
          "CtTa_0079",
          "CtTa_0080",
          "CtTa_0081",
          "CtTa_0082",
          "CtTa_0083",
          "CtTa_0084_breeding",
          "CtTa_0085_Breeding",
          "CtTa_0086",
          "CtTa_0087",
          "CtTa_0088_Breeding",
          "CtTa_0089",
          "CtTa_0090",
          "CtTa_0091_Breeding",
          "CtTa_0092",
          "CtTa_0093",
          "CtTa_0094",
          "CtTa_0095",
          "CtTa_0096",
          "CtTa_0097",
          "CtTa_0098",
          "CtTa_0099",
          "CtTa_0100",
          "CtTa_0101",
          "CtTa_0102_Breeding",
          "CtTa_0103",
          "CtTa_0104",
          "CtTa_0105",
          "CtTa_0106",
          "CtTa_0107",
          "CtTa_0108",
          "CtTa_0109",
          "CtTa_0110",
          "CtTa_0111",
          "CtTa_0112_Breeding",
          "CtTa_0113",
          "CtTa_0114",
          "CtTa_0115",
          "CtTa_0116",
          "CtTa_0117",
          "CtTa_0118",
          "CtTa_0119",
          "CtTa_0120",
          "CtTa_0121",
          "CtTa_0122",
          "CtTa_0123",
          "CtTa_0124",
          "CtTa_0125",
          "CtTa_0126",
          "CtTa_0127",
          "CtTa_0128",
          "CtTa_0129",
          "CtTa_0130",
          "CtTa_0131",
          "CtTa_0132",
          "CtTa_0133",
          "CtTa_0134",
          "CtTa_0135",
          "CtTa_0136",
          "CtTa_0137",
          "CtTa_0138",
          "CtTa_0139",
          "CtTa_0140",
          "CtTa_0141",
          "CtTa_0142",
          "CtTa_0143",
          "CtTa_0144",
          "DA_0003",
          "DA_0004",
          "DA_0005",
          "DA_0006",
          "DA_0007",
          "DA_0008",
          "DA_0009",
          "DA_0010",
          "DA_0011",
          "DA_0012",
          "DA_0013",
          "DA_0014",
          "DA_0015",
          "DA_0016",
          "DA_0017",
          "DA_0018",
          "DA_0019",
          "DA_0020",
          "DA_0022",
          "DA_0023",
          "DA_0026",
          "DA_0027",
          "DA_0029",
          "DA_0030",
          "DA_0031",
          "DA_0032",
          "DA_0033",
          "DA_0034",
          "DA_0035",
          "DA_0036_Breeding",
          "DA_0037",
          "DA_0038",
          "DA_0039",
          "DA_0040",
          "DA_0041",
          "DA_0044",
          "DA_0044",
          "DA_0045",
          "DA_0046_Breeding",
          "DA_0048",
          "DA_0049",
          "DA_0050",
          "DA_0052",
          "DA_0053",
          "DA_0055",
          "DA_0056",
          "DA_0057_Breeding",
          "DA_0061",
          "DA_0062_Breeding",
          "DA_0064_Breeding",
          "DA_0066",
          "DA_0067",
          "DA_0068_Breeding",
          "DA_0069",
          "DA_0070",
          "DA_0071",
          "DA_0072",
          "DA_0073",
          "DA_0074_Breeding",
          "DA_0075",
          "DA_0076",
          "DA_0078",
          "DA_0079",
          "DA_0080",
          "DA_0081",
          "DA_0082",
          "DA_0086",
          "DA_0087",
          "DA_0088",
          "DA_0089",
          "DA_0090",
          "DA_0091",
          "DA_0092",
          "DA_0093",
          "DA_0094",
          "DA_0095",
          "DA_0096",
          "DA_CON1",
          "DA_CON2",
          "DA_IoO186",
          "DA_IoO187",
          "DA_IoO188",
          "DA_IoO189",
          "DA_IoO190",
          "DA_IoO192",
          "DA_IoO193",
          "DA_IoO194",
          "DA_IoO195",
          "DA_IoO196",
          "DA_IoO197",
          "DA_IoO206",
          "DA_IoO207",
          "DA_IoO210",
          "DA_IoO212",
          "DA_IoO213",
          "DA_IoO214",
          "DA_IoO215",
          "DA_IoO216",
          "DA_IoO217",
          "DA_IoO218",
          "DA_IoO219",
          "DA_IoO220",
          "DA_IoO221",
          "DA_IoO222",
          "DJ",
          "Drd_0001",
          "Drd_0002",
          "Drd_0004",
          "Drd_0005",
          "Drd_0006",
          "Drd_0007",
          "Drd_0008",
          "Drd_0009",
          "Drd_0010",
          "Drd_0011",
          "Drd_0012",
          "Drd_0013",
          "Drd_0014",
          "Drd_0015",
          "Drd_0016",
          "Drd_0017",
          "Drd_0018",
          "Drd_0019",
          "Drd_0020",
          "Drd_0021",
          "Drd_0022",
          "Drd_0023",
          "Drd_0024",
          "Drd_0025",
          "Drd_0026",
          "Drd_0027",
          "Drd_0028",
          "Drd_0029",
          "Drd_0030",
          "Drd_0032",
          "Drd_0033",
          "Drd_0034",
          "Drd_0035",
          "Drd_0036",
          "Drd_0037",
          "Drd_0039",
          "Drd_0041",
          "Drd_0042",
          "Drd_0043",
          "Drd_0044",
          "Drd_0045",
          "Drd_0046",
          "Drd_0047",
          "Drd_0048",
          "Drd_0049",
          "Drd_0051_Breeding",
          "Drd_0053",
          "Drd_0054",
          "Drd_0055",
          "Drd_0057",
          "Drd_0058",
          "Drd_0059",
          "Drd_0060",
          "Drd_0061",
          "Drd_0062",
          "Drd_0063",
          "Drd_0064",
          "Drd_0065",
          "Drd_0066",
          "Drd_0067",
          "Drd_0068",
          "Drd_0069",
          "Drd_0070",
          "Drd_0071",
          "Drd_0072",
          "Drd_0073",
          "Drd_0074",
          "Drd_0075",
          "Drd_0076",
          "Drd_0077",
          "Drd_0078",
          "Drd_0080",
          "Drd_0081",
          "Drd_0082",
          "Drd_0083",
          "Drd_0084",
          "Drd_0085",
          "Drd_0086",
          "Drd_0087",
          "Drd_0088",
          "Drd_0089",
          "Drd_0090",
          "Drd_0091",
          "Drd_0092",
          "Drd_0093",
          "Drd_0094",
          "Drd_0095",
          "Drd_0096",
          "Drd_0097",
          "Drd_0098",
          "Drd_0099",
          "Drd_IoO37",
          "Drd_IoO40",
          "Drd_IoO41",
          "Drd_IoO42",
          "Drd_IoO47",
          "Drd_IoO48",
          "Drd_IoO49",
          "Drd_IoO51",
          "Drd_IoO52",
          "Drd_IoO53",
          "Emx_0001",
          "Emx_0002",
          "Emx_0003",
          "Emx_0004",
          "Emx_0005",
          "Emx_0006",
          "Emx_0007",
          "Emx_0008",
          "Emx_0009_Breeding",
          "Emx_0010_Breeding",
          "Emx_0011",
          "Emx_0012",
          "Emx_0013",
          "Emx_0014",
          "Emx_0015",
          "Emx_0016",
          "Emx_0017",
          "Emx_0018",
          "Emx_0019",
          "Emx_0020",
          "Emx_0021",
          "Emx_0022",
          "Emx_0023",
          "Emx_0024",
          "Emx_0025",
          "Emx_0026",
          "Emx_0027",
          "Emx_0028",
          "Emx_0029",
          "Emx_0030",
          "Emx_0031",
          "Emx_0032",
          "Emx_0033",
          "Emx_0034",
          "Emx_0035",
          "Emx_0036",
          "Emx_0037",
          "Emx_0038_Breeding",
          "Emx_0039",
          "Emx_0040",
          "Emx_0041_Breeding",
          "Emx_0042",
          "Emx_0043",
          "Emx_0044",
          "Emx_0045",
          "Emx_0046",
          "Emx_0047",
          "Emx_0048",
          "Emx_0049",
          "Emx_0050",
          "Emx_0051",
          "Emx_0052",
          "Emx_0053",
          "Emx_IoO128",
          "Emx_IoO133",
          "Gad_0001",
          "Gad_0002",
          "Gad_0003",
          "Gad_0004",
          "Gad_0005",
          "Gad_0006",
          "Gad_0007",
          "Gad_0008",
          "Gad_0009",
          "Gad_0010",
          "Gad_0011",
          "Gad_0012",
          "Gad_0013",
          "Gad_0014",
          "Gad_0015_Breeding",
          "Gad_0016_Breeding",
          "Gad_0017_Breeding",
          "Gad_0018",
          "Gad_0019",
          "Gad_0020",
          "Gad_0021",
          "Gad2_0001_Breeding",
          "Gad2_0002_Breeding",
          "Gad2_0003_Breeding",
          "Gad2_0004_Breeding",
          "Gad2_0005",
          "Gad2_0006",
          "Gad2_0007",
          "Gad2_0008",
          "Gad2_0009",
          "Gad2_0010",
          "Gad2_0011",
          "Gad2_0012",
          "Gad2_0013",
          "Gad2_0014",
          "Gad2_0015",
          "Gad2_0016",
          "Gad2_0017",
          "Gad2_0018",
          "Gad2_0019",
          "Gad2_0020",
          "Gad2_0021",
          "Gad2_0022",
          "Gad2_0023",
          "Gad2_0024",
          "Gad_IoO51",
          "Gad_IoO54",
          "KHA_0001",
          "KHA_0002",
          "KHA_0003",
          "KHA_0004",
          "KHA_0005",
          "KHA_0006",
          "KHA_0008",
          "KHA_0009",
          "KHA_0010",
          "KHA_0011",
          "KHA_0012",
          "KHA_0013",
          "KHA_0014",
          "KHA_0019",
          "KHA_0021",
          "KHA_0022",
          "KHA_0023",
          "KHA_0024",
          "KHA_0024",
          "KHA_0025",
          "KHA_0026",
          "KHA_0027",
          "KHA_0028",
          "KHA_0029",
          "KHA_0030",
          "KHA_0031",
          "KHA_0032",
          "KHA_0033",
          "KHA_0035",
          "KHA_0037",
          "KHA_0038",
          "KHA_0039",
          "KHA_0041",
          "KHA_0044",
          "KHA_0045",
          "KHA_0046",
          "KHA_0048_Breeding",
          "KHA_0049",
          "KHA_0050",
          "KHA_0052_Breeding",
          "KHA_0053_Breeding",
          "KHA_0054",
          "KHA_0055",
          "KHA_0056",
          "KHA_0057",
          "KHA_0059",
          "KHA_0060",
          "KHA_0063",
          "KHA_0064",
          "KHA_0065",
          "KHA_0066",
          "KHA_0068",
          "KHA_0069",
          "KHA_0070",
          "KHA_0072",
          "KHA_0073",
          "KHA_0074",
          "KHA_0075",
          "KHA_0076",
          "KHA_0077",
          "KHA_0078",
          "KHA_0079",
          "KHA_0080",
          "KHA_0081",
          "KHA_0082",
          "KHA_0083",
          "KHA_0084",
          "KHA_0085",
          "KHA_0086",
          "KHA_0087",
          "KHA1_0010",
          "KHA_IoO182",
          "KHA_IoO184",
          "MD0ST1",
          "MD0ST2",
          "Mouse2",
          "MP",
          "Neu_Beads1",
          "Neu_Embed",
          "Neu_IHC1",
          "N.KHA_0010",
          "N.KHA_0011",
          "N.KHA_0022",
          "N.KHA_0025",
          "N.KHA_0026",
          "NS_iDISCO1",
          "Pv_0001",
          "Pv_0003",
          "Pv_0005",
          "Pv_0006",
          "Pv_0009",
          "Pv_0011",
          "Pv_0012",
          "Pv_0013",
          "Pv_0014",
          "Pv_0015",
          "Pv_0016",
          "Pv_0017",
          "Pv_0018",
          "Pv_0019",
          "Pv_0020",
          "Pv_0021",
          "Pv_0022",
          "Pv_0023",
          "Pv_0024",
          "Pv_0025",
          "Pv_0026",
          "Pv_0027",
          "Pv_0028",
          "Pv_0029",
          "Pv_0031",
          "Pv_0032",
          "Pv_0033",
          "Pv_0034",
          "Pv_0035",
          "Pv_0036",
          "Pv_0037",
          "Pv_0038",
          "Pv_0039",
          "Pv_0040",
          "Pv_0041",
          "Pv_0042",
          "Pv_0043",
          "Pv_0044",
          "Pv_0045",
          "Pv_0046",
          "Pv_0047",
          "Pv_0048",
          "Pv_0049",
          "Pv_0051",
          "Pv_0052",
          "Pv_0053",
          "Pv_0054",
          "Pv_0055",
          "Pv_0056",
          "Pv_0057",
          "Pv_0058",
          "Pv_0060",
          "Pv_0062",
          "Pv_0063",
          "Pv_0064",
          "Pv_0065",
          "Pv_0066",
          "Pv_0067",
          "Pv_0068",
          "Pv_0069",
          "Pv_0070",
          "Pv_0071",
          "Pv_0072",
          "Pv_0073",
          "Pv_0075_Breeding",
          "Pv_0076",
          "Pv_0077",
          "Pv_0078_Breeding",
          "Pv_0079_Breeding",
          "Pv_0080",
          "Pv_0081",
          "Pv_0082",
          "Pv_0083",
          "Pv_0084",
          "Pv_0085",
          "Pv_0086",
          "Pv_0087_Breeding",
          "Pv_0088",
          "Pv_0089",
          "Pv_0090",
          "Pv_0091",
          "Pv_0092",
          "Pv_0093",
          "Pv_0094",
          "Pv_0095",
          "Pv_0096",
          "Pv_0097",
          "Pv_0098",
          "Pv_0099",
          "Pv_0100",
          "Pv_0102",
          "Pv_0103",
          "Pv_0104",
          "Pv_0105",
          "Pv_0106",
          "Pv_0107",
          "Pv_0108",
          "Pv_0109",
          "Pv_0110",
          "Pv_0111",
          "Pv_0112",
          "Pv_0113",
          "Pv_0114",
          "Pv_0115",
          "Pv_IoO145",
          "Pv_IoO151",
          "Pv_IoO154",
          "Pv_IoO163",
          "Pv.Td_0001",
          "Pv.Td_0002",
          "Pv.Td_0003",
          "Pv.Td_0004",
          "Pv.Td_0005",
          "Pv.Td_0006",
          "Pv.Td_0007",
          "Pv.Td_0008",
          "Pv.Td_0009",
          "Pv.Td_0010",
          "Pv.Td_0011",
          "Pv.Td_0012",
          "Pv.Td_0013",
          "Pv.Td_0014",
          "Pv.Td_0015",
          "Rasgrf_0001",
          "Rasgrf_0002",
          "Rasgrf_0003",
          "Rasgrf_0004",
          "Rasgrf_0005",
          "Rasgrf_IoO72",
          "Rasgrf_IoO76",
          "RCL_0001",
          "RCL_0002",
          "RCL_0003",
          "RCL_0004",
          "RCL_0005",
          "RCL_0006",
          "RCL_0007",
          "RCL_0008",
          "RCL_0009",
          "RCL_0010",
          "RCL_0011",
          "RCL_0012",
          "RCL_0013",
          "RCL_0014",
          "RCL_0015",
          "RCL_0016",
          "RCL_0017",
          "RCL_0018",
          "RCL_0019",
          "RCLcg_0001_Breeding",
          "RCLcg_0002",
          "RCLcg_0003_Breeding",
          "RCLcg_0004_Breeding",
          "RCLcg_0005",
          "RCLcg_0006",
          "RCLcg_0007",
          "RCLcg_0008",
          "RCLcg_0009",
          "RCLcg_0010",
          "RCLcg_0011",
          "RCLcg_0012",
          "RCLcg_0013",
          "RCLcg_0014",
          "RCLcg_0015",
          "RCLcg_0016",
          "RCLcg_0017_Breeding",
          "RCLcg_0018_Breeding",
          "RCLcg_0019",
          "RCLcg_0020",
          "RCLcg_0021",
          "RCLcg_0022_Breeding",
          "RCLcg_0023",
          "RCLcg_0024",
          "RCLcg_0025",
          "RCLcg_0026",
          "RCLcg_0027",
          "RCLcg_0028",
          "RCLcg_0029",
          "RCLcg_0030",
          "RCLcg_0031",
          "RCLcg_0032",
          "RCLcg_0033",
          "RCLcg_0034",
          "RCLcg_0035",
          "RCLcg_0036",
          "RCLcg_0037_Breeding",
          "RCLcg_0038",
          "RCLcg_0039",
          "RCLcg_0040",
          "RCLcg_0041",
          "RCLcg_0042",
          "RCLcg_0043",
          "RCLcg_0044",
          "RCLcg_0045",
          "RCLcg_0046",
          "RCLcg_0047",
          "RCLcg_0048",
          "RCLcg_0049",
          "RCLcg_0050",
          "RCLcg_0051",
          "RCLcg_0052",
          "RCLcg_0053",
          "RCLcg_0054",
          "RCLcg_0055",
          "RCLcg_0056",
          "RCLcg_0057",
          "RCLcg_0058",
          "RCLcg_0059",
          "RCLcg_0060",
          "RCLcg_0061",
          "RCLcg_0062",
          "RCLcg_0063",
          "RCLcg_0064",
          "RCLcg_0065",
          "RCLcg_0066",
          "RCLcg_0067",
          "RCLcg_0068",
          "RCLcg_0069",
          "RCLcg.Vg_0001",
          "RCLcg.Vg_0002",
          "RCLcg.Vg_0003",
          "RCLcg.Vg_0004",
          "RCLcg.Vg_0005",
          "RCLcg.Vg_0007",
          "RCLcg.Vg_0009",
          "RCLcg.Vg_0010",
          "RCLcg.Vg_0011",
          "RCLcg.Vg_0012",
          "RCLcg.Vg_0013",
          "RCLcg.Vg_0014",
          "RCLcg.Vg_0015",
          "RCLcg.Vg_0016",
          "RCLcg.Vg_0025",
          "RCLcg.Vg_0026",
          "RCLcg.Vg_0027",
          "RCLcg.Vg_0028",
          "RCLcg.Vg_0029",
          "RCLcg.Vg_0030",
          "RCLcg.Vg_0031",
          "RCLcg.Vg_0032",
          "RCLcg.Vg_0033",
          "RCLcg.Vg_0034",
          "RCLcg.Vg_0035",
          "RCLcg.Vg_0036",
          "RCLcg.Vg_0037",
          "RCLcg.Vg_0038",
          "RCLcg.Vg_0039",
          "RCLcg.Vg_0040",
          "RCLcg.Vg_0041",
          "RCLcg.Vg_0042",
          "RCLcg.Vg_0043",
          "RCLcg.Vg_0046",
          "RCLcg.Vg_0047",
          "RCLcg.Vg_0048",
          "RCLcg.Vg_0049",
          "RCLcg.Vg_0050",
          "RCLcg.Vg_0051",
          "RCLcg.Vg_0052",
          "RCLcg.Vg_0053",
          "RCLcg.Vg_0054",
          "RCLcg.Vg_0055",
          "RCLcg.Vg_0056",
          "RCLcg.Vg_0057",
          "RCL_IoO17",
          "RCL_IoO21",
          "RCL_IoO22",
          "RCL_IoO23",
          "RCL_IoO24",
          "RCL_IoO25",
          "RCL_IoO26",
          "RCL_IoO28",
          "RCL.Vg_0001",
          "RCL.Vg_0002",
          "RCL.Vg_0003",
          "RCL.Vg_0004",
          "RCL.Vg_0005",
          "RCL.Vg_0006",
          "RCL.Vg_0007",
          "RCL.Vg_0008",
          "RCL.Vg_0009",
          "RCL.Vg_0011",
          "RCL.Vg_0012",
          "RCL.Vg_0013",
          "RCL.Vg_0015",
          "RCL.Vg_0016",
          "RCL.Vg_0017",
          "RCL.Vg_0018",
          "RCL.Vg_0019",
          "RCL.Vg_0020",
          "RCL.Vg_0021",
          "RCL.Vg_0023",
          "RCL.Vg_0025",
          "RCL.Vg_0026",
          "RCL.Vg_0029",
          "RCL.Vg_0031",
          "RCL.Vg_0032",
          "RCL.Vg_0033",
          "RCL.Vg_0034",
          "RCL.Vg_0035",
          "RCL.Vg_0037",
          "RCL.Vg_0041",
          "RCL.Vg_0042",
          "RCL.Vg_0043",
          "RCL.Vg_0044",
          "RCL.Vg_0045",
          "RCL.Vg_0046",
          "RCL.Vg_0047",
          "RCL.Vg_0048",
          "RCL.Vg_0049",
          "RCL.Vg_0050",
          "RCL.Vg_0052",
          "RCL.Vg_0053",
          "RCL.Vg_0054",
          "RCL.Vg_0055",
          "RCL.Vg_0058",
          "RCL.Vg_0059",
          "RCL.Vg_0060",
          "RCL.Vg_0061",
          "RCL.Vg_0062",
          "RCL.Vg_0063",
          "RCL.Vg_0064",
          "RCL.Vg_0065",
          "RCL.Vg_0066",
          "RCL.Vg_0067",
          "RCL.Vg_0068",
          "RCL.Vg_0069",
          "RCL.Vg_0070",
          "RCL.Vg_0071",
          "RCL.Vg_0073",
          "RCL.Vg_0075",
          "RCL.Vg_0076",
          "RCL.Vg_0077",
          "RCL.Vg_0078",
          "RCL.Vg_0079",
          "RCL.Vg_0080",
          "RCL.Vg_IoO25",
          "RCL.Vg_IoO26",
          "RCL.Vg_IoO27",
          "RCL.Vg_IoO28",
          "RCL.Vg_IoO29",
          "RCL.Vg_IoO33",
          "Rosalind",
          "Sim1_0001",
          "Sim1_0002",
          "Sim1_0003",
          "Sim1_0004",
          "Sim1_0005",
          "Sim1_0006",
          "Sim1_0007",
          "Sim1_0008",
          "Sim1_0009",
          "Sim1_0010",
          "Sim1_0011",
          "Sim1_0012",
          "Sim1_0013",
          "Sim1_0014",
          "Sim1_0015",
          "Sim1_0016",
          "Sim1_0017",
          "Sim1_0018",
          "Sim1_0019",
          "Sim1_0022",
          "Sim1_0023",
          "Sim1_0024",
          "Sim1_0025",
          "Sim1_0026",
          "Sim1_0027",
          "Sim1_0028",
          "Sim1_0029",
          "Sim1_0030",
          "Sim1_0031",
          "Sim1_0032",
          "Sim1_0033",
          "Sim1_0034",
          "Sim1_0035",
          "Sim1_0036",
          "Sim1_0037",
          "Sim1_0038",
          "Sim1_0039",
          "Sim1_0040",
          "Sim1.Ai148_0003",
          "Sim1.Ai148_0004",
          "Sim1.Ai148_0005",
          "Snap_0001",
          "Snap_0002",
          "Snap_0003",
          "Snap_0004",
          "Snap_0005",
          "Snap_0006",
          "Snap_0007",
          "Snap_0008",
          "Snap_0009",
          "Snap_0010",
          "Snap_0011",
          "Snap_0012",
          "Snap_0013",
          "Snap_IoO21",
          "Sst_0001",
          "Sst_0002",
          "Sst_0003",
          "Sst_0004",
          "Sst_0005",
          "Sst_0006",
          "Sst_0007",
          "Sst_0008",
          "Sst_0009",
          "Sst_0010",
          "Sst_0011",
          "Sst_0012",
          "Sst_0013",
          "Sst_0014",
          "Sst_0015",
          "Sst_0016",
          "Sst_0017",
          "Sst_0018",
          "Sst_0019",
          "Sst_0020",
          "Sst_0021",
          "Sst_0022",
          "Sst_0023",
          "Sst_0024",
          "Sst_0025",
          "Sst_0026",
          "Sst_0027",
          "Sst_0028",
          "Sst_0029",
          "Sst_0030",
          "Sst_0031",
          "Sst_0032",
          "Sst_0033",
          "Sst_0034",
          "Sst_0035",
          "Sst_0036",
          "Sst_0037",
          "Sst_0038",
          "Sst_0039",
          "Sst_0040",
          "Sst_0041",
          "Sst_0042_Breeding",
          "Sst_0044",
          "Sst_0045",
          "Sst_0046",
          "Sst_0047",
          "Sst_0048_Breeding",
          "Sst_0049",
          "Sst_0050",
          "Sst_0051",
          "Sst_0052",
          "Sst_0053",
          "Sst_0054",
          "Sst_0055",
          "Sst_0056",
          "Sst_0057",
          "Sst_0058",
          "Sst_0059",
          "Sst_0060",
          "Sst_0061",
          "Sst_0062",
          "Sst_0063",
          "Sst_0064",
          "Sst_0065",
          "Sst_IoO214",
          "Sst_IoO222",
          "sst.tdT_0001",
          "sst.tdT_0002",
          "sst.tdT_0003",
          "sst.tdT_0004",
          "sst.tdT_0005",
          "sst.tdT_0009",
          "sst.tdT_0010",
          "sst.tdT_0011",
          "sst.tdT_0013",
          "sst.tdT_0014",
          "sst.tdT_0016",
          "sst.tdT_0017",
          "sst.tdT_0018",
          "sst.tdT_0019",
          "sst.tdT_0020",
          "sst.tdT_0021",
          "sst.tdT_0022",
          "sst.tdT_0025",
          "sst.tdT_0027",
          "sst.tdT_0028",
          "sst.tdT_0029",
          "sst.tdT_0030",
          "sst.tdT_0032",
          "TdTom_0001",
          "TdTom_0001",
          "TdTom_0002",
          "TdTom_0003",
          "TdTom_0004",
          "TdTom_0005",
          "TdTom_0006",
          "TdTom_0007",
          "TdTom_0008",
          "TdTom_0009",
          "TdTom_0010",
          "TdTom_0011",
          "TdTom_0012",
          "TdTom_0013",
          "TdTom_0014_Breeding",
          "TdTom_0015",
          "TdTom_0016_Breeding",
          "TdTom_0017",
          "TdTom_0018",
          "TdTom_0019",
          "TdTom_0020",
          "TdTom_0021",
          "TdTom_0022",
          "TdTom_0023",
          "TdTom_0024",
          "TdTom_0025",
          "TdTom_0026",
          "TdTom_0027",
          "TdTom_0028",
          "TdTom_0029",
          "TdTom_0030",
          "TdTom_0031",
          "TdTom_0032",
          "TdTom_0033",
          "TdTom_0034",
          "TdTom_0035",
          "TdTom_0036",
          "TdTom_0037",
          "TdTom_0038_Breeding",
          "TdTom_0039_Breeding",
          "TdTom_0040",
          "TdTom_0041_Breeding",
          "TdTom_0042",
          "TdTom_0043_Breeding",
          "TdTom_0044",
          "TdTom_0045",
          "TdTom_0046",
          "TdTom_0047",
          "TdTom_0048",
          "TdTom_0049",
          "TdTom_0050",
          "TdTom_0051",
          "TdTom_0052",
          "TdTom_0053",
          "TdTom_0054",
          "TdTom_0055",
          "TdTom_0056",
          "TdTom_0057",
          "TdTom_0058",
          "TdTom_0059",
          "TdTOM_Hausser_2",
          "TdTOM_Haussser_1",
          "TdTom_IoO87",
          "TdTom_IoO92",
          "TetO_0001",
          "TetO_0002",
          "TetO_0003",
          "TetO_0004",
          "TetO_0005",
          "TetO_0006",
          "TetO_0007",
          "TetO_0008",
          "TetO_0009",
          "TetO_0010",
          "TetO_0011",
          "TetO_0012",
          "TetO_0013",
          "TetO_0014",
          "TetO_0015",
          "TetO_0016",
          "TetO_0017",
          "TetO_0018",
          "TetO_0019",
          "TetO_0020",
          "TetO_0021",
          "TetO_0022",
          "TetO_0023",
          "TetO_0025",
          "TetO_0026",
          "TetO_0027_Breeding",
          "TetO_0028",
          "TetO_0029",
          "TetO_0030_Breeding",
          "TetO_0031",
          "TetO_0032_breeding",
          "TetO_0033",
          "TetO_0034",
          "TetO_0035",
          "TetO_0036",
          "TetO_0037",
          "TetO_0038",
          "TetO_0039",
          "TetO_0040",
          "TetO_0042",
          "TetO_0043_Breeding",
          "TetO_0044_Breeding",
          "TetO_0045",
          "TetO_0046",
          "TetO_0047",
          "TetO_0048",
          "TetO_0049",
          "TetO_0050",
          "TetO_0051",
          "TetO_0052",
          "TetO_0053_Breeding",
          "TetO_0054",
          "TetO_0055_Breeding",
          "TetO_0056",
          "TetO_0057",
          "TetO_0058",
          "TetO_0059",
          "TetO_0060",
          "TetO_0061",
          "TetO_0062",
          "TetO_0063",
          "TetO_0064",
          "TetO_0065",
          "TetO_0066",
          "TetO_0067",
          "TetO_0068",
          "TetO_0069",
          "TetO_0070",
          "TetO_0071",
          "TetO_0072",
          "TetO_0073",
          "TetO_0074",
          "TetO_0075",
          "TetO_0076",
          "TetO_0077",
          "TetO_0078",
          "TetO_0079",
          "TetO_0080",
          "TetO_0081",
          "TetO_0082",
          "TetO_0083",
          "TetO_0084",
          "TetO_0085",
          "TetO_0086",
          "TetO_0087",
          "TetO_0088",
          "TetO_0089",
          "TetO_0090",
          "TetO_0091",
          "TetO_0092",
          "TetO_0093",
          "TetO_0094",
          "TetO_0095",
          "TetO_0096",
          "TetO_0097",
          "TetO_0098",
          "TetO_0099",
          "TetO_0100",
          "TetO_0101",
          "TetO_0102",
          "TetO_0103",
          "TetO_0104",
          "TetO_0105",
          "TetO_0106",
          "TetO_0107",
          "TetO_0108",
          "TetO.CtTa_0002",
          "TetO.CtTa_0003",
          "TetO.CtTa_0005",
          "TetO.CtTa_0006",
          "TetO.CtTa_0007",
          "TetO.CtTa_0008",
          "TetO.CtTa_0009",
          "TetO.CtTa_0010",
          "TetO.CtTa_0012",
          "TetO.CtTa_0013",
          "TetO.CtTa_0015",
          "TetO.CtTa_0017",
          "TetO.CtTa_0018",
          "TetO.CtTa_0019",
          "TetO.CtTa_0020",
          "TetO.CtTa_0021",
          "TetO.CtTa_0022",
          "TetO.CtTa_0023",
          "TetO.CtTa_0024",
          "TetO.CtTa_0025",
          "TetO.CtTa_0026",
          "TetO.CtTa_0028",
          "TetO.CtTa_0029",
          "TetO.CtTa_0030",
          "TetO.CtTa_0031",
          "TetO.CtTa_0032",
          "TetO.CtTa_0033",
          "TetO.CtTa_0034",
          "TetO.CtTa_0035",
          "TetO.CtTa_0036",
          "TetO.CtTa_0037",
          "TetO.CtTa_0038",
          "TetO.CtTa_0040",
          "TetO.CtTa_0041",
          "TetO.CtTa_0042",
          "TetO.CtTa_0043",
          "TetO.CtTa_0046",
          "TetO.CtTa_0047",
          "TetO.CtTa_0048",
          "TetO.CtTa_0049",
          "TetO.CtTa_0050",
          "TetO.CtTa_0051",
          "TetO.CtTa_0052",
          "TetO.CtTa_0053",
          "TetO.CtTa_0054",
          "TetO.CtTa_0057",
          "TetO.CtTa_0058",
          "TetO.CtTa_0059",
          "TetO.CtTa_0060",
          "TetO.CtTa_0061",
          "TetO.CtTa_0062",
          "TetO.CtTa_0063",
          "TetO.CtTa_0064",
          "TetO.CtTa_0067",
          "TetO.CtTa_0069",
          "TetO.CtTa_0070",
          "TetO.CtTa_0072",
          "TetO.CtTa_0073",
          "TetO.CtTa_0075",
          "TetO.CtTa_0077",
          "TetO.CtTa_0078",
          "TetO.CtTa_0079",
          "TetO.CtTa_0080",
          "TetO.CtTa_0081",
          "TetO.CtTa_0083",
          "TetO.CtTa_0084",
          "TetO.CtTa_0085",
          "TetO.CtTa_0086",
          "TetO.CtTa_0088",
          "TetO.CtTa_0089",
          "TetO.CtTa_0090",
          "TetO.CtTa_0091",
          "TetO.CtTa_0092",
          "TetO.CtTa_0093",
          "TetO.CtTa_0094",
          "TetO.CtTa_0097",
          "TetO.CtTa_0099",
          "TetO.CtTa_0101",
          "TetO.CtTa_0102",
          "TetO.CtTa_0104",
          "TetO.CtTa_0105",
          "TetO.CtTa_0106",
          "TetO.CtTa_0107",
          "TetO.CtTa_0109",
          "TetO.CtTa_0110",
          "TetO.CtTa_0111",
          "TetO.CtTa_0114",
          "TetO.CtTa_0115",
          "TetO.CtTa_0116",
          "TetO.CtTa_0119",
          "TetO.CtTa_0120",
          "TetO.CtTa_0121",
          "TetO.CtTa_0123",
          "TetO.CtTa_0124",
          "TetO.CtTa_0125",
          "TetO.CtTa_0127",
          "TetO.CtTa_0128",
          "TetO.CtTa_0129",
          "TetO.CtTa_0130",
          "TetO.CtTa_0132",
          "TetO.CtTa_0133",
          "TetO.CtTa_0134",
          "TetO.CtTa_0135",
          "TetO.CtTa_0136",
          "TetO.CtTa_0137",
          "TetO.CtTa_0140",
          "TetO.CtTa_0141",
          "TetO.CtTa_0143",
          "TetO.CtTa_0144",
          "TetO.CtTa_0145",
          "TetO.CtTa_0148",
          "TetO.CtTa_0149",
          "TetO.CtTa_0150",
          "TetO.CtTa_0151",
          "TetO.CtTa_0154",
          "TetO.CtTa_0155",
          "TetO.CtTa_0159",
          "TetO.CtTa_0161",
          "TetO.CtTa_0163",
          "TetO.CtTa_0164",
          "TetO.CtTa_0165",
          "TetO.CtTa_0167",
          "TetO.CtTa_0169",
          "TetO.CtTa_0170",
          "TetO.CtTa_0171",
          "TetO.CtTa_0172",
          "TetO.CtTa_0176",
          "TetO.CtTa_0177",
          "TetO.CtTa_0178",
          "TetO.CtTa_0180",
          "TetO.CtTa_0182",
          "TetO.CtTa_0183s",
          "TetO.CtTa_0184",
          "TetO.CtTa_0185",
          "TetO.CtTa_0186",
          "TetO.CtTa_0187",
          "TetO.CtTa_0188",
          "TetO.CtTa_0189",
          "TetO.CtTa_0190",
          "TetO.CtTa_0191",
          "TetO.CtTa_0192",
          "TetO.CtTa_0193",
          "TetO.CtTa_0194",
          "TetO.CtTa_0195",
          "TetO.CtTa_0196",
          "TetO.CtTa_0198",
          "TetO.CtTa_0199",
          "TetO.CtTa_0201",
          "TetO.CtTa_0202",
          "TetO.CtTa_0203",
          "TetO.CtTa_0204",
          "TetO.CtTa_0206",
          "TetO.CtTa_0207",
          "TetO.CtTa_0208",
          "TetO.CtTa_0209",
          "TetO.CtTa_0210",
          "TetO.CtTa_0212",
          "TetO.CtTa_0215",
          "TetO.CtTa_0216",
          "TetO.CtTa_0217",
          "TetO.CtTa_0218",
          "TetO.CtTa_0219",
          "TetO.CtTa_0220",
          "TetO.CtTa_0223",
          "TetO.CtTa_0224",
          "TetO.CtTa_0225",
          "TetO.CtTa_0226",
          "TetO.CtTa_0227",
          "TetO.CtTa_0228",
          "TetO.CtTa_0229",
          "TetO.CtTa_0230",
          "TetO.CtTa_0231",
          "TetO.CtTa_0232",
          "TetO.CtTa_0233",
          "TetO.CtTa_0234",
          "TetO.CtTa_0235",
          "TetO.CtTa_0236",
          "TetO.CtTa_0237",
          "TetO.CtTa_0238",
          "TetO.CtTa_0239",
          "TetO.CtTa_0240",
          "TetO.CtTa_0241",
          "TetO.CtTa_0242",
          "TetO.CtTa_0243",
          "TetO.CtTa_0244",
          "TetO.CtTa_0246",
          "TetO.CtTa_0247",
          "TetO.CtTa_0248",
          "TetO.CtTa_0250",
          "TetO.CtTa_0251",
          "TetO.CtTa_0252",
          "TetO.CtTa_0253",
          "TetO.CtTa_0254",
          "TetO.CtTa_0255",
          "TetO.CtTa_0256",
          "TetO.CtTa_0259",
          "TetO.CtTa_0260",
          "TetO.CtTa_0261",
          "TetO.CtTa_0262",
          "TetO.CtTa_0264",
          "TetO.CtTa_0265",
          "TetO.CtTa_0266",
          "TetO.CtTa_0267",
          "TetO.CtTa_0268",
          "TetO.CtTa_0269",
          "TetO.CtTa_0270",
          "TetO.CtTa_0271",
          "TetO.CtTa_0272",
          "TetO.CtTa_0273",
          "TetO.CtTa_0274",
          "TetO.CtTa_0275",
          "TetO.CtTa_0276",
          "TetO.CtTa_0277",
          "TetO.CtTa_0278",
          "TetO.CtTa_0279",
          "TetO.CtTa_0280",
          "TetO.CtTa_0281",
          "TetO.CtTa_0282",
          "TetO.CtTa_0283",
          "TetO.CtTa_0284",
          "TetO.CtTa_0285",
          "TetO.CtTa_0286",
          "TetO.CtTa_0287",
          "TetO.CtTa_0289",
          "TetO.CtTa_0291",
          "TetO.CtTa_0292",
          "TetO.CtTa_0293",
          "TetO.CtTa_0294",
          "TetO.CtTa_0296",
          "TetO.CtTa_0297",
          "TetO.CtTa_0298",
          "TetO.CtTa_0299",
          "TetO.CtTa_0300",
          "TetO.CtTa_0301",
          "TetO.CtTa_0302",
          "TetO.CtTa_0303",
          "TetO.CtTa_0304",
          "TetO.CtTa_0305",
          "TetO.CtTa_0306",
          "TetO.CtTa_0307",
          "TetO.CtTa_0308",
          "TetO.CtTa_0309",
          "TetO.CtTa_0310",
          "TetO.CtTa_0311",
          "TetO.CtTa_0312",
          "TetO.CtTa_0313",
          "TetO.CtTa_0314",
          "TetO.CtTa_0315",
          "TetO.CtTa_0316",
          "TetO.CtTa_0317",
          "TetO.CtTa_0320",
          "TetO.CtTa_0321",
          "TetO.CtTa_0322",
          "TetO.CtTa_0323",
          "TetO.CtTa_0324",
          "TetO.CtTa_0325",
          "TetO.CtTa_0326",
          "TetO.CtTa_0327",
          "TetO.CtTa_0328",
          "TetO.CtTa_0329",
          "TetO.CtTa_0330",
          "TetO.CtTa_0331",
          "TetO.CtTa_0332",
          "TetO.CtTa_0333",
          "TetO.CtTa_0334",
          "TetO.CtTa_0335",
          "TetO.CtTa_0336",
          "TetO.CtTa_0337",
          "TetO.CtTa_0338",
          "TetO.CtTa_0339",
          "TetO.CtTa_0340",
          "TetO.CtTa_0341",
          "TetO.CtTa_0342",
          "TetO.CtTa_0343",
          "TetO.CtTa_IoO10",
          "TetO.CtTa_IoO14",
          "TetO.CtTa_IoO18",
          "TetO.CtTa_IoO39",
          "TetO.CtTa_IoO41",
          "TetO.CtTa_IoO42",
          "TetO.CtTa_IoO43",
          "TetO.CtTa_IoO44",
          "TetO.CtTa_IoO45",
          "TetO.CtTa_IoO48",
          "TetO.CtTa_IoO49",
          "TetO.CtTa_IoO50",
          "TetO.CtTa_IoO52",
          "TetO.CtTa_IoO53",
          "TetO.CtTa_IoO55",
          "TetO.CtTa_IoO56",
          "TetO.CtTa_IoO64",
          "TetO.CtTa_IoO65",
          "TetO.CtTa_IoO66",
          "TetO.CtTa_IoO67",
          "TetO.CtTa_IoO68",
          "TetO.CtTa_IoO69",
          "TetO.CtTa_IoO70",
          "TetO.CtTa_IoO71",
          "TetO.CtTa_IoO74",
          "TetO.CtTa_IoO75",
          "TetO.CtTa_IoO8",
          "TetO_IoO29",
          "TetO_IoO31",
          "TetO_IoO32",
          "TetO_IoO41",
          "TetO_IoO42",
          "TetO_IoO43",
          "tetO.tTA.TdTom_0001",
          "tetO.tTA.TdTom_0002",
          "tetO.tTA.TdTom_0003",
          "tetO.tTA.TdTom_0004",
          "tetO.tTA.TdTom_0005",
          "tetO.tTA.TdTom_0006",
          "tetO.tTA.TdTom_0007",
          "tetO.tTA.TdTom_0008",
          "tetO.tTA.TdTom_0009",
          "tetO.tTA.TdTom_0010",
          "tetO.tTA.TdTom_0011",
          "tetO.tTA.TdTom_0012",
          "tetO.tTA.TdTom_0013",
          "tetO.tTA.TdTom_0014",
          "tetO.tTA.TdTom_0015",
          "tetO.tTA.TdTom_0016",
          "Thy18_0001",
          "Thy18_0002",
          "Thy18_0003",
          "Thy18_0004",
          "Thy18_0005",
          "Thy18_0006",
          "Thy18_0007",
          "Thy18_0008",
          "Thy18_0009",
          "Thy18_0010",
          "Thy18_0011",
          "Thy18_0012",
          "Thy18_0013",
          "Thy18_0014",
          "Thy18_0015",
          "Thy18_0016",
          "Thy18_0017",
          "Thy18_0018",
          "Thy18_0023",
          "Thy18_0024",
          "Thy18_0025",
          "Thy18_0026",
          "Thy18_0027",
          "Thy18_0029",
          "Thy18_0030",
          "Thy18_0031",
          "Thy18_0032",
          "Thy18_0033",
          "Thy18_0034_Breeding",
          "Thy18_0035_Breeding",
          "Thy18_0036_Breeding",
          "Thy18_0038",
          "Thy18_0039",
          "Thy18_0040",
          "Thy18_0041",
          "Thy18_0042",
          "Thy18_0043",
          "Thy18_0046",
          "Thy18_0049",
          "Thy18_0050",
          "Thy18_0051",
          "Thy18_0052",
          "Thy18_0053",
          "Thy18_0054",
          "Thy18_0055",
          "Thy18_IoO14",
          "Thy18_IoO16",
          "Thy18_IoO30",
          "Thy18_IoO31",
          "Thy18_IoO32",
          "Thy18_IoO33",
          "Thy18.Pv_0001",
          "Thy18.Pv_0002",
          "Thy18.Pv_0003",
          "Thy18.Pv_0004",
          "Thy18.Pv_0005",
          "Thy18.Pv_0006",
          "Thy18.Pv_0007",
          "Thy18.Pv_0008",
          "Thy18.Pv_0009",
          "Thy18.Pv_0010",
          "Thy18.Pv_0011",
          "Thy18.Pv_0012",
          "Thy18.Pv_0013",
          "Thy18.Pv_0014",
          "Thy18.Pv_0015",
          "Thy18.Pv_0016",
          "Thy18.Pv_0017",
          "Thy18.Pv_0018",
          "Thy18.Pv_0019",
          "Thy18.Pv_0020",
          "Thy18.Pv_0021",
          "Thy18.Pv_0022",
          "Thy18.Pv_0023",
          "Thy18.Pv_0024",
          "Thy18.Pv_0025",
          "Thy18.Pv_0026",
          "Thy18.Pv_0027",
          "Thy18.Pv_0028",
          "Thy18.Pv_0029",
          "Thy18.Pv_0030",
          "Thy18.Pv_0031",
          "Thy18.Pv_0032",
          "Thy18.Pv_0033",
          "Thy18.Pv_0033",
          "Thy18.Pv_0034",
          "Thy18.Pv_0034",
          "Thy18.Pv_0035",
          "Thy18.Pv_0035",
          "Thy18.Pv_0036",
          "Thy18.Pv_0036",
          "Thy18.Pv_0037",
          "Thy18.Pv_0037",
          "Thy18.Pv_0038",
          "Thy18.Pv_0039",
          "Thy18.Pv_0040",
          "Thy18.Pv_0041",
          "Thy18.Pv_0042",
          "Thy18.Pv_0043",
          "Thy18.Pv_0044",
          "Thy18.Pv_0045",
          "Vg_0001",
          "Vg_0002",
          "Vg_0003",
          "Vg_0004",
          "Vg_0005",
          "Vg_0006",
          "Vg_0007",
          "Vg_0008",
          "Vg_0009",
          "Vg_0010",
          "Vg_0011",
          "Vg_0012",
          "Vg_0013",
          "Vg_0014",
          "Vg_0015",
          "Vg_0016",
          "Vg_0017",
          "Vg_0018",
          "Vg_0019",
          "Vg_0020",
          "Vg_0021",
          "Vg_0022",
          "Vg_0023",
          "Vg_0024",
          "Vg_0025",
          "Vg_0026",
          "Vg_0027",
          "Vg_0028",
          "Vg_0029",
          "Vg_0030",
          "Vg_0031",
          "Vg_0032_Breeding",
          "Vg_0034",
          "Vg_0036_Breeding",
          "Vg_0037_Breeding",
          "Vg_0038",
          "Vg_0039",
          "Vg_0040",
          "Vg_0041",
          "Vg_0042",
          "Vg_0043",
          "Vg_0044",
          "Vg_0045",
          "Vg_0046_Breeding",
          "Vg_0047",
          "Vg_0048",
          "Vg_0049",
          "Vg_0051",
          "Vg_0052",
          "Vg_0053",
          "Vg_0054",
          "Vg_0055",
          "Vg_0056",
          "Vg_0057",
          "Vg_0058",
          "Vg_0059",
          "Vg_0060",
          "Vg_0061",
          "Vg_0062",
          "Vg_0063",
          "Vg_0064",
          "Vg_0065",
          "Vg_0066",
          "Vg_0067",
          "Vg_0068",
          "Vg_0069",
          "Vg_0070",
          "Vg_0071",
          "Vg_0072",
          "Vg_0073",
          "Vg_0074",
          "Vg_0075",
          "Vg_IoO16",
          "Vg_IoO20",
          "Vg_IoO21",
          "Vg_IoO24",
          "Vg_IoO25",
          "Vg_IoO26",
          "Vip_0001",
          "Vip_0002",
          "Vip_0003",
          "Vip_0004",
          "Vip_0005",
          "Vip_0006",
          "Vip_0007",
          "Vip_0008",
          "Vip_0009",
          "Vip_0010",
          "Vip_0011",
          "Vip_0012",
          "Vip_0013",
          "Vip_0014",
          "Vip_0015",
          "Vip_0016",
          "Vip_0017",
          "Vip_0018",
          "Vip_0019",
          "Vip_0020",
          "Vip_0021",
          "Vip_0022",
          "Vip_0023",
          "Vip_0024",
          "Vip_0025",
          "Vip_0026",
          "Vip_0027",
          "Vip_0028",
          "Vip_0029",
          "Vip_0030",
          "Vip_0031",
          "Vip_0032",
          "Vip_0033",
          "Vip_0034",
          "Vip_0035",
          "Vip_0036",
          "Vip_0037",
          "Vip_0038",
          "Vip_0039",
          "Vip_0040",
          "Vip_0041",
          "Vip_0042",
          "Vip_0043",
          "Vip_0044",
          "Vip_0045",
          "Vip_0046_Breeding",
          "Vip_0047_Breeding",
          "Vip_0048",
          "Vip_0049",
          "Vip_0050",
          "Vip_0051",
          "Vip_0052",
          "Vip_0053",
          "Vip_0054",
          "Vip_0055",
          "Vip_0056",
          "Vip_0057",
          "Vip_0058",
          "Vip_0059",
          "Vip_0060",
          "Vip_0061",
          "Vip_0062",
          "Vip_0063",
          "Vip_0064",
          "Vip_0065",
          "Vip_0066",
          "Vip_0067",
          "Vip_0068",
          "Vip_IoO36",
          "Vip_IoO40"
         ],
         "username": "charu"
        },
        {
         "email": "jack.reynolds-clark.17@ucl.ac.uk",
         "id": 34,
         "subjects_responsible": [
          "JC001",
          "JC002",
          "JC003",
          "JC004"
         ],
         "username": "Jack"
        },
        {
         "email": "efthymia.diamanti.11@ucl.ac.uk",
         "id": 8,
         "subjects_responsible": [
          "M161130_MIK",
          "M170215_MIK",
          "M170320_MIK",
          "M170411_MIK",
          "M170504_MIK",
          "M170627_MIK",
          "M_170717_MP",
          "M_170717_MP02",
          "M170726_MIK",
          "M171006_MIK"
         ],
         "username": "mika"
        },
        {
         "email": "miles.wells.10@ucl.ac.uk",
         "id": 6,
         "subjects_responsible": [
          "Kruopsti",
          "PC005",
          "PC009",
          "PC014",
          "Rupestinge",
          "Ryztinge",
          "Sumanyte"
         ],
         "username": "miles"
        },
        {
         "email": "m.krumin@ucl.ac.uk",
         "id": 13,
         "subjects_responsible": [
          "CR01",
          "JL007",
          "MK025",
          "MK026",
          "MK027",
          "MK028",
          "MK029",
          "MK030"
         ],
         "username": "michael"
        },
        {
         "email": "dylan.myers-joseph.17@ucl.ac.uk",
         "id": 35,
         "subjects_responsible": [
          "DJ001",
          "DJ002",
          "DJ004",
          "DJ005",
          "DJ006",
          "DJ007",
          "DJ008",
          "DJ009",
          "DJ010",
          "DJ011",
          "DJ012"
         ],
         "username": "Dylan"
        },
        {
         "email": "andrew.forrest.16@ucl.ac.uk",
         "id": 31,
         "subjects_responsible": [
          "DA_0084",
          "sst.tdT_0033",
          "Thy18_0037"
         ],
         "username": "Hamish"
        },
        {
         "email": "p.zatka@ucl.ac.uk",
         "id": 12,
         "subjects_responsible": [
          "Burnet",
          "Diesel",
          "Gaia",
          "Heinz",
          "Keynes",
          "Kornberg",
          "Medawar",
          "Nyx",
          "Ochoa",
          "PC006",
          "PC020_PZH",
          "Vin"
         ],
         "username": "peter"
        },
        {
         "email": "susu.chen66@gmail.com",
         "id": 44,
         "subjects_responsible": [],
         "username": "susu"
        },
        {
         "email": "",
         "id": 45,
         "subjects_responsible": [],
         "username": "olivier"
        },
        {
         "email": "arminlak@gmail.com",
         "id": 9,
         "subjects_responsible": [
          "ALK034",
          "ALK036",
          "ALK037",
          "ALK041",
          "ALK042",
          "ALK043",
          "ALK044",
          "ALK045",
          "ALK046",
          "ALK047",
          "ALK048",
          "ALK049",
          "ALK050",
          "ALK051",
          "ALK052",
          "ALK053",
          "ALK054",
          "ALK055",
          "ALK056",
          "ALK057",
          "ALK058",
          "ALK059",
          "ALK060",
          "ALK_061",
          "ALK062",
          "ALK063",
          "ALK064",
          "ALK065",
          "ALK066",
          "ALK067",
          "ALK068",
          "ALK069",
          "ALK070",
          "ALK071",
          "ALK073",
          "ALK074",
          "ALK075",
          "ALK076",
          "ALK077",
          "ALK078"
         ],
         "username": "armin"
        },
        {
         "email": "",
         "id": 46,
         "subjects_responsible": [],
         "username": "niccolo"
        },
        {
         "email": "sylvia.schroeder@ucl.ac.uk",
         "id": 21,
         "subjects_responsible": [
          "SS075",
          "SS076",
          "SS077",
          "SS078",
          "SS079",
          "SS080",
          "SS081",
          "SS082",
          "SS083",
          "SS084",
          "SS085",
          "SS086",
          "SS087",
          "SS088",
          "SS089",
          "SS090",
          "SS091",
          "SS092",
          "SS093",
          "SS094",
          "SS095",
          "SS096",
          "SS097",
          "SS098",
          "SS099"
         ],
         "username": "sylvia"
        },
        {
         "email": "charlie.dowell.16@ucl.ac.uk",
         "id": 47,
         "subjects_responsible": [],
         "username": "charlie"
        },
        {
         "email": "kenneth.harris@ucl.ac.uk",
         "id": 18,
         "subjects_responsible": [],
         "username": "kenneth"
        },
        {
         "email": "cyrille.rossant@gmail.com",
         "id": 3,
         "subjects_responsible": [],
         "username": "cyrille"
        }
       ]
      },
      "text/plain": [
       "<IPython.core.display.JSON object>"
      ]
     },
     "execution_count": 10,
     "metadata": {
      "application/json": {
       "expanded": false
      }
     },
     "output_type": "execute_result"
    }
   ],
   "source": [
    "get(BASEURL + \"/users\")"
   ]
  },
  {
   "cell_type": "markdown",
   "metadata": {},
   "source": [
    "Let's see the details of one user:"
   ]
  },
  {
   "cell_type": "code",
   "execution_count": 11,
   "metadata": {},
   "outputs": [
    {
     "data": {
      "application/json": {
       "email": "miles.wells.10@ucl.ac.uk",
       "id": 6,
       "subjects_responsible": [
        "Kruopsti",
        "PC005",
        "PC009",
        "PC014",
        "Rupestinge",
        "Ryztinge",
        "Sumanyte"
       ],
       "username": "miles"
      },
      "text/plain": [
       "<IPython.core.display.JSON object>"
      ]
     },
     "execution_count": 11,
     "metadata": {
      "application/json": {
       "expanded": false
      }
     },
     "output_type": "execute_result"
    }
   ],
   "source": [
    "get(BASEURL + \"/users/miles\")"
   ]
  },
  {
   "cell_type": "markdown",
   "metadata": {},
   "source": [
    "And the details of one subject:"
   ]
  },
  {
   "cell_type": "code",
   "execution_count": 12,
   "metadata": {},
   "outputs": [
    {
     "data": {
      "application/json": {
       "actions_sessions": [
        {
         "data_dataset_session_related": [],
         "end_time": null,
         "location": null,
         "narrative": "auto-generated session",
         "number": null,
         "parent_session": null,
         "procedures": [
          "Behavior training/tasks"
         ],
         "start_time": "2017-09-11T19:03:59",
         "subject": "Ryztinge",
         "type": "Base",
         "url": "https://alyx-dev.cortexlab.net/sessions/98441581-293e-4214-9a78-3455ca06112f",
         "users": []
        },
        {
         "data_dataset_session_related": [
          {
           "data_format": "unknown",
           "data_url": null,
           "dataset_type": "Block",
           "id": "faf7946d-801a-4289-99bc-33b4fc122142",
           "name": "2017-09-11_2_Ryztinge_Block.mat",
           "url": "https://alyx-dev.cortexlab.net/datasets/faf7946d-801a-4289-99bc-33b4fc122142"
          }
         ],
         "end_time": null,
         "location": null,
         "narrative": "auto-generated session",
         "number": 2,
         "parent_session": "https://alyx-dev.cortexlab.net/sessions/98441581-293e-4214-9a78-3455ca06112f",
         "procedures": [
          "Behavior training/tasks"
         ],
         "start_time": "2017-09-11T19:03:59",
         "subject": "Ryztinge",
         "type": "Experiment",
         "url": "https://alyx-dev.cortexlab.net/sessions/b3dc20a5-df83-4492-9682-9db24cd450fa",
         "users": []
        },
        {
         "data_dataset_session_related": [],
         "end_time": null,
         "location": null,
         "narrative": "auto-generated session",
         "number": null,
         "parent_session": null,
         "procedures": [
          "Behavior training/tasks"
         ],
         "start_time": "2017-09-12T17:47:02",
         "subject": "Ryztinge",
         "type": "Base",
         "url": "https://alyx-dev.cortexlab.net/sessions/2ce871b6-8ce3-4e95-add3-9267784ae91c",
         "users": []
        },
        {
         "data_dataset_session_related": [
          {
           "data_format": "unknown",
           "data_url": null,
           "dataset_type": "Block",
           "id": "02b950c2-4023-4898-8c3f-4945a39cf7c3",
           "name": "2017-09-12_1_Ryztinge_Block.mat",
           "url": "https://alyx-dev.cortexlab.net/datasets/02b950c2-4023-4898-8c3f-4945a39cf7c3"
          }
         ],
         "end_time": null,
         "location": null,
         "narrative": "auto-generated session",
         "number": 1,
         "parent_session": "https://alyx-dev.cortexlab.net/sessions/2ce871b6-8ce3-4e95-add3-9267784ae91c",
         "procedures": [
          "Behavior training/tasks"
         ],
         "start_time": "2017-09-12T17:47:02",
         "subject": "Ryztinge",
         "type": "Experiment",
         "url": "https://alyx-dev.cortexlab.net/sessions/a7a4dcde-a3d6-427d-b565-4f16642062f7",
         "users": []
        },
        {
         "data_dataset_session_related": [],
         "end_time": null,
         "location": null,
         "narrative": "auto-generated session",
         "number": null,
         "parent_session": null,
         "procedures": [
          "Behavior training/tasks"
         ],
         "start_time": "2017-09-13T17:33:08",
         "subject": "Ryztinge",
         "type": "Base",
         "url": "https://alyx-dev.cortexlab.net/sessions/27e529ca-04ad-4a9d-8381-2e6aa92b21cb",
         "users": []
        },
        {
         "data_dataset_session_related": [
          {
           "data_format": "unknown",
           "data_url": null,
           "dataset_type": "Block",
           "id": "efc69f4c-4351-4f42-9785-d8814a87c649",
           "name": "2017-09-13_1_Ryztinge_Block.mat",
           "url": "https://alyx-dev.cortexlab.net/datasets/efc69f4c-4351-4f42-9785-d8814a87c649"
          }
         ],
         "end_time": null,
         "location": null,
         "narrative": "auto-generated session",
         "number": 1,
         "parent_session": "https://alyx-dev.cortexlab.net/sessions/27e529ca-04ad-4a9d-8381-2e6aa92b21cb",
         "procedures": [
          "Behavior training/tasks"
         ],
         "start_time": "2017-09-13T17:33:08",
         "subject": "Ryztinge",
         "type": "Experiment",
         "url": "https://alyx-dev.cortexlab.net/sessions/b42fce9c-fa1c-43a7-9772-6c7401335ada",
         "users": []
        },
        {
         "data_dataset_session_related": [],
         "end_time": null,
         "location": null,
         "narrative": "auto-generated session",
         "number": null,
         "parent_session": null,
         "procedures": [
          "Behavior training/tasks"
         ],
         "start_time": "2017-09-14T16:03:23",
         "subject": "Ryztinge",
         "type": "Base",
         "url": "https://alyx-dev.cortexlab.net/sessions/cc4fa67f-37c3-497c-bc6d-03aa7399fd2d",
         "users": []
        },
        {
         "data_dataset_session_related": [
          {
           "data_format": "unknown",
           "data_url": null,
           "dataset_type": "Block",
           "id": "aa2573b4-d871-4293-9e3c-3bd571a5712c",
           "name": "2017-09-14_1_Ryztinge_Block.mat",
           "url": "https://alyx-dev.cortexlab.net/datasets/aa2573b4-d871-4293-9e3c-3bd571a5712c"
          }
         ],
         "end_time": null,
         "location": null,
         "narrative": "auto-generated session",
         "number": 1,
         "parent_session": "https://alyx-dev.cortexlab.net/sessions/cc4fa67f-37c3-497c-bc6d-03aa7399fd2d",
         "procedures": [
          "Behavior training/tasks"
         ],
         "start_time": "2017-09-14T16:03:23",
         "subject": "Ryztinge",
         "type": "Experiment",
         "url": "https://alyx-dev.cortexlab.net/sessions/82f9197d-da0b-44c9-a3f4-fe4dfd042420",
         "users": []
        },
        {
         "data_dataset_session_related": [],
         "end_time": null,
         "location": null,
         "narrative": "auto-generated session",
         "number": null,
         "parent_session": null,
         "procedures": [
          "Behavior training/tasks"
         ],
         "start_time": "2017-09-15T17:35:47",
         "subject": "Ryztinge",
         "type": "Base",
         "url": "https://alyx-dev.cortexlab.net/sessions/b8c8d599-d58f-4e51-a0a2-fe8e70dda7a9",
         "users": []
        },
        {
         "data_dataset_session_related": [
          {
           "data_format": "unknown",
           "data_url": null,
           "dataset_type": "Block",
           "id": "d15f971a-da4e-45ed-8021-4c7b1172186b",
           "name": "2017-09-15_1_Ryztinge_Block.mat",
           "url": "https://alyx-dev.cortexlab.net/datasets/d15f971a-da4e-45ed-8021-4c7b1172186b"
          }
         ],
         "end_time": null,
         "location": null,
         "narrative": "auto-generated session",
         "number": 1,
         "parent_session": "https://alyx-dev.cortexlab.net/sessions/b8c8d599-d58f-4e51-a0a2-fe8e70dda7a9",
         "procedures": [
          "Behavior training/tasks"
         ],
         "start_time": "2017-09-15T17:35:47",
         "subject": "Ryztinge",
         "type": "Experiment",
         "url": "https://alyx-dev.cortexlab.net/sessions/0b637842-e99c-4f54-829d-1ace3cfe6a42",
         "users": []
        },
        {
         "data_dataset_session_related": [],
         "end_time": null,
         "location": null,
         "narrative": "auto-generated session",
         "number": null,
         "parent_session": null,
         "procedures": [
          "Behavior training/tasks"
         ],
         "start_time": "2017-09-18T16:31:25",
         "subject": "Ryztinge",
         "type": "Base",
         "url": "https://alyx-dev.cortexlab.net/sessions/1285dafc-1e0d-4368-aa0b-92a30c4576d5",
         "users": []
        },
        {
         "data_dataset_session_related": [
          {
           "data_format": "unknown",
           "data_url": null,
           "dataset_type": "Block",
           "id": "4d555f4d-0512-4694-8a43-95052c5a46e0",
           "name": "2017-09-18_1_Ryztinge_Block.mat",
           "url": "https://alyx-dev.cortexlab.net/datasets/4d555f4d-0512-4694-8a43-95052c5a46e0"
          }
         ],
         "end_time": null,
         "location": null,
         "narrative": "auto-generated session",
         "number": 1,
         "parent_session": "https://alyx-dev.cortexlab.net/sessions/1285dafc-1e0d-4368-aa0b-92a30c4576d5",
         "procedures": [
          "Behavior training/tasks"
         ],
         "start_time": "2017-09-18T16:31:25",
         "subject": "Ryztinge",
         "type": "Experiment",
         "url": "https://alyx-dev.cortexlab.net/sessions/94cbc748-e64a-435e-a2d2-1d6ea68c3912",
         "users": []
        },
        {
         "data_dataset_session_related": [],
         "end_time": null,
         "location": null,
         "narrative": "auto-generated session",
         "number": null,
         "parent_session": null,
         "procedures": [
          "Behavior training/tasks"
         ],
         "start_time": "2017-09-19T15:03:15",
         "subject": "Ryztinge",
         "type": "Base",
         "url": "https://alyx-dev.cortexlab.net/sessions/92cd720f-e985-44be-a24a-5f9af25fe6f9",
         "users": []
        },
        {
         "data_dataset_session_related": [
          {
           "data_format": "unknown",
           "data_url": null,
           "dataset_type": "Block",
           "id": "3fb43d0d-7f3b-472d-aa95-14b57b4c0926",
           "name": "2017-09-19_1_Ryztinge_Block.mat",
           "url": "https://alyx-dev.cortexlab.net/datasets/3fb43d0d-7f3b-472d-aa95-14b57b4c0926"
          }
         ],
         "end_time": null,
         "location": null,
         "narrative": "auto-generated session",
         "number": 1,
         "parent_session": "https://alyx-dev.cortexlab.net/sessions/92cd720f-e985-44be-a24a-5f9af25fe6f9",
         "procedures": [
          "Behavior training/tasks"
         ],
         "start_time": "2017-09-19T15:03:15",
         "subject": "Ryztinge",
         "type": "Experiment",
         "url": "https://alyx-dev.cortexlab.net/sessions/dd7945e1-92ee-4331-b5a4-5c6a981420f0",
         "users": []
        },
        {
         "data_dataset_session_related": [],
         "end_time": null,
         "location": null,
         "narrative": "auto-generated session",
         "number": null,
         "parent_session": null,
         "procedures": [
          "Behavior training/tasks"
         ],
         "start_time": "2017-09-20T17:17:49",
         "subject": "Ryztinge",
         "type": "Base",
         "url": "https://alyx-dev.cortexlab.net/sessions/6a6d6b17-96c1-4c1b-ac60-4464ffc8397c",
         "users": []
        },
        {
         "data_dataset_session_related": [
          {
           "data_format": "unknown",
           "data_url": null,
           "dataset_type": "Block",
           "id": "9524bfa9-8c82-431d-bbcd-d1a28af08bdd",
           "name": "2017-09-20_1_Ryztinge_Block.mat",
           "url": "https://alyx-dev.cortexlab.net/datasets/9524bfa9-8c82-431d-bbcd-d1a28af08bdd"
          }
         ],
         "end_time": null,
         "location": null,
         "narrative": "auto-generated session",
         "number": 1,
         "parent_session": "https://alyx-dev.cortexlab.net/sessions/6a6d6b17-96c1-4c1b-ac60-4464ffc8397c",
         "procedures": [
          "Behavior training/tasks"
         ],
         "start_time": "2017-09-20T17:17:49",
         "subject": "Ryztinge",
         "type": "Experiment",
         "url": "https://alyx-dev.cortexlab.net/sessions/e5638391-b72c-4062-b51c-ac47b5fc28ca",
         "users": []
        },
        {
         "data_dataset_session_related": [],
         "end_time": null,
         "location": null,
         "narrative": "auto-generated session",
         "number": null,
         "parent_session": null,
         "procedures": [
          "Behavior training/tasks"
         ],
         "start_time": "2017-09-22T17:43:04",
         "subject": "Ryztinge",
         "type": "Base",
         "url": "https://alyx-dev.cortexlab.net/sessions/90fbe5fe-bdb5-4b29-b942-c0c14d086bab",
         "users": []
        },
        {
         "data_dataset_session_related": [
          {
           "data_format": "unknown",
           "data_url": null,
           "dataset_type": "Block",
           "id": "e9efb6e0-69ef-407c-946b-cf72cc2bb123",
           "name": "2017-09-22_1_Ryztinge_Block.mat",
           "url": "https://alyx-dev.cortexlab.net/datasets/e9efb6e0-69ef-407c-946b-cf72cc2bb123"
          }
         ],
         "end_time": null,
         "location": null,
         "narrative": "auto-generated session",
         "number": 1,
         "parent_session": "https://alyx-dev.cortexlab.net/sessions/90fbe5fe-bdb5-4b29-b942-c0c14d086bab",
         "procedures": [
          "Behavior training/tasks"
         ],
         "start_time": "2017-09-22T17:43:04",
         "subject": "Ryztinge",
         "type": "Experiment",
         "url": "https://alyx-dev.cortexlab.net/sessions/b9e2fa18-537a-4364-8701-a792a2b97e8f",
         "users": []
        },
        {
         "data_dataset_session_related": [],
         "end_time": null,
         "location": null,
         "narrative": "auto-generated session",
         "number": null,
         "parent_session": null,
         "procedures": [
          "Behavior training/tasks"
         ],
         "start_time": "2017-09-25T16:57:41",
         "subject": "Ryztinge",
         "type": "Base",
         "url": "https://alyx-dev.cortexlab.net/sessions/3ae4131c-64d4-41f4-9f1c-1581fbfdc8c1",
         "users": []
        },
        {
         "data_dataset_session_related": [
          {
           "data_format": "unknown",
           "data_url": null,
           "dataset_type": "Block",
           "id": "b4414cdf-26c4-4589-9af3-17b3e925488d",
           "name": "2017-09-25_1_Ryztinge_Block.mat",
           "url": "https://alyx-dev.cortexlab.net/datasets/b4414cdf-26c4-4589-9af3-17b3e925488d"
          }
         ],
         "end_time": null,
         "location": null,
         "narrative": "auto-generated session",
         "number": 1,
         "parent_session": "https://alyx-dev.cortexlab.net/sessions/3ae4131c-64d4-41f4-9f1c-1581fbfdc8c1",
         "procedures": [
          "Behavior training/tasks"
         ],
         "start_time": "2017-09-25T16:57:41",
         "subject": "Ryztinge",
         "type": "Experiment",
         "url": "https://alyx-dev.cortexlab.net/sessions/45730194-b75f-4b08-b6bd-3af32422b5b9",
         "users": []
        },
        {
         "data_dataset_session_related": [],
         "end_time": null,
         "location": null,
         "narrative": "auto-generated session",
         "number": null,
         "parent_session": null,
         "procedures": [
          "Behavior training/tasks"
         ],
         "start_time": "2017-09-26T16:16:44",
         "subject": "Ryztinge",
         "type": "Base",
         "url": "https://alyx-dev.cortexlab.net/sessions/899206b8-4290-47fb-8849-ca660a0929b8",
         "users": []
        },
        {
         "data_dataset_session_related": [
          {
           "data_format": "unknown",
           "data_url": null,
           "dataset_type": "Block",
           "id": "ca8bc6f2-589a-4f02-a1e9-861c24bc5f71",
           "name": "2017-09-26_1_Ryztinge_Block.mat",
           "url": "https://alyx-dev.cortexlab.net/datasets/ca8bc6f2-589a-4f02-a1e9-861c24bc5f71"
          }
         ],
         "end_time": null,
         "location": null,
         "narrative": "auto-generated session",
         "number": 1,
         "parent_session": "https://alyx-dev.cortexlab.net/sessions/899206b8-4290-47fb-8849-ca660a0929b8",
         "procedures": [
          "Behavior training/tasks"
         ],
         "start_time": "2017-09-26T16:16:44",
         "subject": "Ryztinge",
         "type": "Experiment",
         "url": "https://alyx-dev.cortexlab.net/sessions/8ca39e81-c0bb-43dc-8be2-2629bbbfdcf9",
         "users": []
        },
        {
         "data_dataset_session_related": [],
         "end_time": null,
         "location": null,
         "narrative": "auto-generated session",
         "number": null,
         "parent_session": null,
         "procedures": [
          "Behavior training/tasks"
         ],
         "start_time": "2017-09-27T16:59:00",
         "subject": "Ryztinge",
         "type": "Base",
         "url": "https://alyx-dev.cortexlab.net/sessions/88934bd3-d797-44f2-a54a-03651f2f7ab5",
         "users": []
        },
        {
         "data_dataset_session_related": [
          {
           "data_format": "unknown",
           "data_url": null,
           "dataset_type": "Block",
           "id": "30a3d942-5c66-4010-8935-4d5ec259c6be",
           "name": "2017-09-27_1_Ryztinge_Block.mat",
           "url": "https://alyx-dev.cortexlab.net/datasets/30a3d942-5c66-4010-8935-4d5ec259c6be"
          }
         ],
         "end_time": null,
         "location": null,
         "narrative": "auto-generated session",
         "number": 1,
         "parent_session": "https://alyx-dev.cortexlab.net/sessions/88934bd3-d797-44f2-a54a-03651f2f7ab5",
         "procedures": [
          "Behavior training/tasks"
         ],
         "start_time": "2017-09-27T16:59:00",
         "subject": "Ryztinge",
         "type": "Experiment",
         "url": "https://alyx-dev.cortexlab.net/sessions/232ca5e8-a2d9-483d-9e03-e0e7d4633524",
         "users": []
        },
        {
         "data_dataset_session_related": [],
         "end_time": null,
         "location": null,
         "narrative": "auto-generated session",
         "number": null,
         "parent_session": null,
         "procedures": [
          "Behavior training/tasks"
         ],
         "start_time": "2017-10-17T16:30:12",
         "subject": "Ryztinge",
         "type": "Base",
         "url": "https://alyx-dev.cortexlab.net/sessions/1abd1553-383e-4ecd-847a-98d5273c2fcc",
         "users": []
        },
        {
         "data_dataset_session_related": [
          {
           "data_format": "unknown",
           "data_url": null,
           "dataset_type": "Block",
           "id": "49cd1935-d020-45b7-9a9a-a2d65ce41cc0",
           "name": "2017-10-17_1_Ryztinge_Block.mat",
           "url": "https://alyx-dev.cortexlab.net/datasets/49cd1935-d020-45b7-9a9a-a2d65ce41cc0"
          }
         ],
         "end_time": null,
         "location": null,
         "narrative": "auto-generated session",
         "number": 1,
         "parent_session": "https://alyx-dev.cortexlab.net/sessions/1abd1553-383e-4ecd-847a-98d5273c2fcc",
         "procedures": [
          "Behavior training/tasks"
         ],
         "start_time": "2017-10-17T16:30:12",
         "subject": "Ryztinge",
         "type": "Experiment",
         "url": "https://alyx-dev.cortexlab.net/sessions/a4ba451c-38a7-422d-94e5-7eabb034fae8",
         "users": []
        },
        {
         "data_dataset_session_related": [
          {
           "data_format": "unknown",
           "data_url": null,
           "dataset_type": "Block",
           "id": "74e499c9-b370-4e2a-a22d-db67c71f0721",
           "name": "2017-10-17_2_Ryztinge_Block.mat",
           "url": "https://alyx-dev.cortexlab.net/datasets/74e499c9-b370-4e2a-a22d-db67c71f0721"
          }
         ],
         "end_time": null,
         "location": null,
         "narrative": "auto-generated session",
         "number": 2,
         "parent_session": "https://alyx-dev.cortexlab.net/sessions/1abd1553-383e-4ecd-847a-98d5273c2fcc",
         "procedures": [
          "Behavior training/tasks"
         ],
         "start_time": "2017-10-17T16:33:25",
         "subject": "Ryztinge",
         "type": "Experiment",
         "url": "https://alyx-dev.cortexlab.net/sessions/34647a7a-9943-4605-a0c5-471e1a19b23f",
         "users": []
        },
        {
         "data_dataset_session_related": [],
         "end_time": null,
         "location": null,
         "narrative": "auto-generated session",
         "number": null,
         "parent_session": null,
         "procedures": [
          "Behavior training/tasks"
         ],
         "start_time": "2017-10-18T17:27:39",
         "subject": "Ryztinge",
         "type": "Base",
         "url": "https://alyx-dev.cortexlab.net/sessions/860ee0f0-0e56-41bb-b4de-bd69e8847547",
         "users": []
        },
        {
         "data_dataset_session_related": [],
         "end_time": null,
         "location": null,
         "narrative": "auto-generated session",
         "number": null,
         "parent_session": null,
         "procedures": [
          "Behavior training/tasks"
         ],
         "start_time": "2017-10-19T17:21:24",
         "subject": "Ryztinge",
         "type": "Base",
         "url": "https://alyx-dev.cortexlab.net/sessions/95dcd00b-02f1-47be-9dae-fbc04b0b9efd",
         "users": []
        },
        {
         "data_dataset_session_related": [
          {
           "data_format": "unknown",
           "data_url": null,
           "dataset_type": "Block",
           "id": "c77cb60f-076c-4ca3-abae-29c2c8b0181e",
           "name": "2017-10-19_1_Ryztinge_Block.mat",
           "url": "https://alyx-dev.cortexlab.net/datasets/c77cb60f-076c-4ca3-abae-29c2c8b0181e"
          }
         ],
         "end_time": null,
         "location": null,
         "narrative": "auto-generated session",
         "number": 1,
         "parent_session": "https://alyx-dev.cortexlab.net/sessions/95dcd00b-02f1-47be-9dae-fbc04b0b9efd",
         "procedures": [
          "Behavior training/tasks"
         ],
         "start_time": "2017-10-19T17:21:24",
         "subject": "Ryztinge",
         "type": "Experiment",
         "url": "https://alyx-dev.cortexlab.net/sessions/ecad62e7-8392-45fc-8648-04dd8a4f0b67",
         "users": []
        },
        {
         "data_dataset_session_related": [],
         "end_time": null,
         "location": null,
         "narrative": "auto-generated session",
         "number": null,
         "parent_session": null,
         "procedures": [
          "Behavior training/tasks"
         ],
         "start_time": "2017-10-20T15:01:14",
         "subject": "Ryztinge",
         "type": "Base",
         "url": "https://alyx-dev.cortexlab.net/sessions/3e2f9101-07f9-4234-862a-1ef934f71afb",
         "users": []
        },
        {
         "data_dataset_session_related": [
          {
           "data_format": "unknown",
           "data_url": null,
           "dataset_type": "Block",
           "id": "226721c6-de54-4529-8b31-4a9996a55a5c",
           "name": "2017-10-20_1_Ryztinge_Block.mat",
           "url": "https://alyx-dev.cortexlab.net/datasets/226721c6-de54-4529-8b31-4a9996a55a5c"
          }
         ],
         "end_time": null,
         "location": null,
         "narrative": "auto-generated session",
         "number": 1,
         "parent_session": "https://alyx-dev.cortexlab.net/sessions/3e2f9101-07f9-4234-862a-1ef934f71afb",
         "procedures": [
          "Behavior training/tasks"
         ],
         "start_time": "2017-10-20T15:01:14",
         "subject": "Ryztinge",
         "type": "Experiment",
         "url": "https://alyx-dev.cortexlab.net/sessions/8b0c09d3-b6ac-459e-bd80-9ac0b4db6008",
         "users": []
        },
        {
         "data_dataset_session_related": [],
         "end_time": null,
         "location": null,
         "narrative": "auto-generated session",
         "number": null,
         "parent_session": null,
         "procedures": [
          "Behavior training/tasks"
         ],
         "start_time": "2017-10-23T16:15:10",
         "subject": "Ryztinge",
         "type": "Base",
         "url": "https://alyx-dev.cortexlab.net/sessions/b4c44dcf-6970-45b2-b268-978658a9e5a4",
         "users": []
        },
        {
         "data_dataset_session_related": [
          {
           "data_format": "unknown",
           "data_url": null,
           "dataset_type": "Block",
           "id": "2440469d-6777-49ca-92e7-5e0765968f1d",
           "name": "2017-10-23_1_Ryztinge_Block.mat",
           "url": "https://alyx-dev.cortexlab.net/datasets/2440469d-6777-49ca-92e7-5e0765968f1d"
          }
         ],
         "end_time": null,
         "location": null,
         "narrative": "auto-generated session",
         "number": 1,
         "parent_session": "https://alyx-dev.cortexlab.net/sessions/b4c44dcf-6970-45b2-b268-978658a9e5a4",
         "procedures": [
          "Behavior training/tasks"
         ],
         "start_time": "2017-10-23T16:15:10",
         "subject": "Ryztinge",
         "type": "Experiment",
         "url": "https://alyx-dev.cortexlab.net/sessions/cf156794-ad85-4700-b228-49ef451b6ea2",
         "users": []
        },
        {
         "data_dataset_session_related": [],
         "end_time": null,
         "location": null,
         "narrative": "auto-generated session",
         "number": null,
         "parent_session": null,
         "procedures": [
          "Behavior training/tasks"
         ],
         "start_time": "2017-10-24T15:41:14",
         "subject": "Ryztinge",
         "type": "Base",
         "url": "https://alyx-dev.cortexlab.net/sessions/c46b16f5-1ada-49f3-822b-7d70fb256b1c",
         "users": []
        },
        {
         "data_dataset_session_related": [
          {
           "data_format": "unknown",
           "data_url": null,
           "dataset_type": "Block",
           "id": "0238fb5e-06f2-488c-b266-1fcca756bea9",
           "name": "2017-10-24_1_Ryztinge_Block.mat",
           "url": "https://alyx-dev.cortexlab.net/datasets/0238fb5e-06f2-488c-b266-1fcca756bea9"
          }
         ],
         "end_time": null,
         "location": null,
         "narrative": "auto-generated session",
         "number": 1,
         "parent_session": "https://alyx-dev.cortexlab.net/sessions/c46b16f5-1ada-49f3-822b-7d70fb256b1c",
         "procedures": [
          "Behavior training/tasks"
         ],
         "start_time": "2017-10-24T15:41:14",
         "subject": "Ryztinge",
         "type": "Experiment",
         "url": "https://alyx-dev.cortexlab.net/sessions/4e3de77d-b3c3-4baa-9deb-3845590ffcc5",
         "users": []
        },
        {
         "data_dataset_session_related": [],
         "end_time": null,
         "location": null,
         "narrative": "auto-generated session",
         "number": null,
         "parent_session": null,
         "procedures": [
          "Behavior training/tasks"
         ],
         "start_time": "2017-10-25T15:56:32",
         "subject": "Ryztinge",
         "type": "Base",
         "url": "https://alyx-dev.cortexlab.net/sessions/f9350d88-80dc-4751-84b8-8cb4015b839b",
         "users": []
        },
        {
         "data_dataset_session_related": [
          {
           "data_format": "unknown",
           "data_url": null,
           "dataset_type": "Block",
           "id": "265622e0-5bb5-40da-b03c-931501eee30e",
           "name": "2017-10-25_1_Ryztinge_Block.mat",
           "url": "https://alyx-dev.cortexlab.net/datasets/265622e0-5bb5-40da-b03c-931501eee30e"
          }
         ],
         "end_time": null,
         "location": null,
         "narrative": "auto-generated session",
         "number": 1,
         "parent_session": "https://alyx-dev.cortexlab.net/sessions/f9350d88-80dc-4751-84b8-8cb4015b839b",
         "procedures": [
          "Behavior training/tasks"
         ],
         "start_time": "2017-10-25T15:56:32",
         "subject": "Ryztinge",
         "type": "Experiment",
         "url": "https://alyx-dev.cortexlab.net/sessions/caf2716c-8715-4ea0-9ec8-f4a215b0e0e7",
         "users": []
        },
        {
         "data_dataset_session_related": [],
         "end_time": null,
         "location": null,
         "narrative": "auto-generated session",
         "number": null,
         "parent_session": null,
         "procedures": [
          "Behavior training/tasks"
         ],
         "start_time": "2017-10-26T15:56:14",
         "subject": "Ryztinge",
         "type": "Base",
         "url": "https://alyx-dev.cortexlab.net/sessions/2867e318-6f5b-4421-b262-f5c0650c20a3",
         "users": []
        },
        {
         "data_dataset_session_related": [
          {
           "data_format": "unknown",
           "data_url": null,
           "dataset_type": "Block",
           "id": "6085232c-30f9-4a72-a608-30ab17ca3cae",
           "name": "2017-10-26_1_Ryztinge_Block.mat",
           "url": "https://alyx-dev.cortexlab.net/datasets/6085232c-30f9-4a72-a608-30ab17ca3cae"
          }
         ],
         "end_time": null,
         "location": null,
         "narrative": "auto-generated session",
         "number": 1,
         "parent_session": "https://alyx-dev.cortexlab.net/sessions/2867e318-6f5b-4421-b262-f5c0650c20a3",
         "procedures": [
          "Behavior training/tasks"
         ],
         "start_time": "2017-10-26T15:56:14",
         "subject": "Ryztinge",
         "type": "Experiment",
         "url": "https://alyx-dev.cortexlab.net/sessions/9d7ca412-6abc-4932-9787-3b64ab9eeef2",
         "users": []
        },
        {
         "data_dataset_session_related": [
          {
           "data_format": "unknown",
           "data_url": null,
           "dataset_type": "Block",
           "id": "6a2a626a-ed6d-41a3-a4be-21cc60a316db",
           "name": "2017-10-26_2_Ryztinge_Block.mat",
           "url": "https://alyx-dev.cortexlab.net/datasets/6a2a626a-ed6d-41a3-a4be-21cc60a316db"
          }
         ],
         "end_time": null,
         "location": null,
         "narrative": "auto-generated session",
         "number": 2,
         "parent_session": "https://alyx-dev.cortexlab.net/sessions/2867e318-6f5b-4421-b262-f5c0650c20a3",
         "procedures": [
          "Behavior training/tasks"
         ],
         "start_time": "2017-10-26T16:10:49",
         "subject": "Ryztinge",
         "type": "Experiment",
         "url": "https://alyx-dev.cortexlab.net/sessions/cc673d24-c7e1-433e-adf0-8fb465e8acbe",
         "users": []
        },
        {
         "data_dataset_session_related": [
          {
           "data_format": "unknown",
           "data_url": null,
           "dataset_type": "Block",
           "id": "29cad17c-5885-4df7-b707-c8b6cbb5326a",
           "name": "2017-10-26_3_Ryztinge_Block.mat",
           "url": "https://alyx-dev.cortexlab.net/datasets/29cad17c-5885-4df7-b707-c8b6cbb5326a"
          }
         ],
         "end_time": null,
         "location": null,
         "narrative": "auto-generated session",
         "number": 3,
         "parent_session": "https://alyx-dev.cortexlab.net/sessions/2867e318-6f5b-4421-b262-f5c0650c20a3",
         "procedures": [
          "Behavior training/tasks"
         ],
         "start_time": "2017-10-26T17:23:42",
         "subject": "Ryztinge",
         "type": "Experiment",
         "url": "https://alyx-dev.cortexlab.net/sessions/c6aa0c98-af81-49ed-a500-6525c9b919e8",
         "users": []
        },
        {
         "data_dataset_session_related": [],
         "end_time": null,
         "location": null,
         "narrative": "auto-generated session",
         "number": null,
         "parent_session": null,
         "procedures": [
          "Behavior training/tasks"
         ],
         "start_time": "2017-10-27T15:54:05",
         "subject": "Ryztinge",
         "type": "Base",
         "url": "https://alyx-dev.cortexlab.net/sessions/bcb902a7-2caf-438a-be41-661c224711cd",
         "users": []
        },
        {
         "data_dataset_session_related": [
          {
           "data_format": "unknown",
           "data_url": null,
           "dataset_type": "Block",
           "id": "3cbd40a1-489b-433e-8f5e-9c1388e3a865",
           "name": "2017-10-27_1_Ryztinge_Block.mat",
           "url": "https://alyx-dev.cortexlab.net/datasets/3cbd40a1-489b-433e-8f5e-9c1388e3a865"
          }
         ],
         "end_time": null,
         "location": null,
         "narrative": "auto-generated session",
         "number": 1,
         "parent_session": "https://alyx-dev.cortexlab.net/sessions/bcb902a7-2caf-438a-be41-661c224711cd",
         "procedures": [
          "Behavior training/tasks"
         ],
         "start_time": "2017-10-27T15:54:05",
         "subject": "Ryztinge",
         "type": "Experiment",
         "url": "https://alyx-dev.cortexlab.net/sessions/0933dbc9-c768-4893-8fde-c59a58d3f86a",
         "users": []
        },
        {
         "data_dataset_session_related": [],
         "end_time": null,
         "location": null,
         "narrative": "auto-generated session",
         "number": null,
         "parent_session": null,
         "procedures": [
          "Behavior training/tasks"
         ],
         "start_time": "2017-12-13T17:58:06",
         "subject": "Ryztinge",
         "type": "Base",
         "url": "https://alyx-dev.cortexlab.net/sessions/d3b16954-c3eb-4ef9-b230-599ccebf18b3",
         "users": []
        },
        {
         "data_dataset_session_related": [
          {
           "data_format": "unknown",
           "data_url": null,
           "dataset_type": "Block",
           "id": "eb390c4d-c2ef-44c4-ab0e-ec3e35e8b76b",
           "name": "2017-12-13_1_Ryztinge_Block.mat",
           "url": "https://alyx-dev.cortexlab.net/datasets/eb390c4d-c2ef-44c4-ab0e-ec3e35e8b76b"
          }
         ],
         "end_time": null,
         "location": null,
         "narrative": "auto-generated session",
         "number": 1,
         "parent_session": "https://alyx-dev.cortexlab.net/sessions/d3b16954-c3eb-4ef9-b230-599ccebf18b3",
         "procedures": [
          "Behavior training/tasks"
         ],
         "start_time": "2017-12-13T17:58:06",
         "subject": "Ryztinge",
         "type": "Experiment",
         "url": "https://alyx-dev.cortexlab.net/sessions/3e70e088-449f-4337-aceb-f0565a3266ee",
         "users": []
        },
        {
         "data_dataset_session_related": [
          {
           "data_format": "unknown",
           "data_url": null,
           "dataset_type": "Block",
           "id": "e42ada56-e700-44f3-926e-30dedee08b35",
           "name": "2017-12-13_2_Ryztinge_Block.mat",
           "url": "https://alyx-dev.cortexlab.net/datasets/e42ada56-e700-44f3-926e-30dedee08b35"
          }
         ],
         "end_time": null,
         "location": null,
         "narrative": "auto-generated session",
         "number": 2,
         "parent_session": "https://alyx-dev.cortexlab.net/sessions/d3b16954-c3eb-4ef9-b230-599ccebf18b3",
         "procedures": [
          "Behavior training/tasks"
         ],
         "start_time": "2017-12-13T17:58:49",
         "subject": "Ryztinge",
         "type": "Experiment",
         "url": "https://alyx-dev.cortexlab.net/sessions/90f90b12-97e7-48b6-aa62-6b6d3d923c31",
         "users": []
        },
        {
         "data_dataset_session_related": [],
         "end_time": null,
         "location": null,
         "narrative": "auto-generated session",
         "number": 3,
         "parent_session": "https://alyx-dev.cortexlab.net/sessions/d3b16954-c3eb-4ef9-b230-599ccebf18b3",
         "procedures": [
          "Behavior training/tasks"
         ],
         "start_time": "2017-12-13T18:11:23",
         "subject": "Ryztinge",
         "type": "Experiment",
         "url": "https://alyx-dev.cortexlab.net/sessions/3f086064-d81e-4232-ae94-799f5fafc1fd",
         "users": []
        }
       ],
       "age_weeks": 42,
       "birth_date": "2017-03-22",
       "death_date": "2018-01-11",
       "description": "",
       "genotype": [
        {
         "allele": "Pv-Cre",
         "zygosity": 1
        },
        {
         "allele": "Ai32-ChR2",
         "zygosity": 1
        }
       ],
       "id": "90afce08-bdc0-450e-938e-731b9904290e",
       "line": "Ai32 x PVCre",
       "litter": "Ai32.Pv_L_005",
       "nickname": "Ryztinge",
       "projects": [],
       "responsible_user": "miles",
       "sex": "F",
       "source": "Cruciform BSU",
       "species": "Laboratory mouse",
       "strain": null,
       "url": "https://alyx-dev.cortexlab.net/subjects/Ryztinge",
       "water_administrations": [
        {
         "date_time": "2017-08-03T19:19:59",
         "hydrogel": false,
         "url": "https://alyx-dev.cortexlab.net/water-administrations/6b0a164f-2297-4c79-8c56-136c0a6d32d1",
         "water_administered": 0.165
        },
        {
         "date_time": "2017-08-03T19:35:07",
         "hydrogel": true,
         "url": "https://alyx-dev.cortexlab.net/water-administrations/a05c6541-24da-4a03-9dfd-3a45856cd539",
         "water_administered": 0.77
        },
        {
         "date_time": "2017-08-04T20:00:02",
         "hydrogel": false,
         "url": "https://alyx-dev.cortexlab.net/water-administrations/59574fe3-7dbd-43f9-87a5-5a9a4a23d4a2",
         "water_administered": 0.0255
        },
        {
         "date_time": "2017-08-04T20:05:38",
         "hydrogel": true,
         "url": "https://alyx-dev.cortexlab.net/water-administrations/51782c9c-41b1-47b7-b0a5-c458e88e3470",
         "water_administered": 0.9
        },
        {
         "date_time": "2017-08-05T17:59:31",
         "hydrogel": false,
         "url": "https://alyx-dev.cortexlab.net/water-administrations/e9fe6a1d-fdef-4d80-96b6-6db411f0cb56",
         "water_administered": 0.052
        },
        {
         "date_time": "2017-08-05T18:52:47",
         "hydrogel": true,
         "url": "https://alyx-dev.cortexlab.net/water-administrations/f2302131-7a52-4072-89b9-00cb26b9449a",
         "water_administered": 0.87
        },
        {
         "date_time": "2017-08-06T20:23:26",
         "hydrogel": false,
         "url": "https://alyx-dev.cortexlab.net/water-administrations/dcb3fda5-c6ec-4b02-a775-ab49335283e8",
         "water_administered": 0.1
        },
        {
         "date_time": "2017-08-06T20:24:42",
         "hydrogel": true,
         "url": "https://alyx-dev.cortexlab.net/water-administrations/8e23699b-ba86-401c-9837-0fd7e10ab0f4",
         "water_administered": 0.79
        },
        {
         "date_time": "2017-08-07T18:48:13",
         "hydrogel": false,
         "url": "https://alyx-dev.cortexlab.net/water-administrations/6eb38c46-a626-45b8-868f-5cf449cb9ab4",
         "water_administered": 0.096
        },
        {
         "date_time": "2017-08-07T18:49:03",
         "hydrogel": true,
         "url": "https://alyx-dev.cortexlab.net/water-administrations/3cf9efc6-0597-4ee2-82e3-36e9b9a85076",
         "water_administered": 0.77
        },
        {
         "date_time": "2017-08-08T19:00:21",
         "hydrogel": false,
         "url": "https://alyx-dev.cortexlab.net/water-administrations/afad6f26-31fc-40f9-a0b1-19901e507f79",
         "water_administered": 0.21
        },
        {
         "date_time": "2017-08-08T19:01:53",
         "hydrogel": false,
         "url": "https://alyx-dev.cortexlab.net/water-administrations/765b8219-afd9-42b1-8247-1d8f45c7cf06",
         "water_administered": 0.66
        },
        {
         "date_time": "2017-08-09T17:33:44",
         "hydrogel": false,
         "url": "https://alyx-dev.cortexlab.net/water-administrations/34ca931c-ef7d-458c-9378-a872ef2f553b",
         "water_administered": 0.174
        },
        {
         "date_time": "2017-08-09T17:45:51",
         "hydrogel": false,
         "url": "https://alyx-dev.cortexlab.net/water-administrations/0d632faf-2e67-4218-b703-ea50d2c5b0ed",
         "water_administered": 0.67
        },
        {
         "date_time": "2017-08-10T18:45:38",
         "hydrogel": false,
         "url": "https://alyx-dev.cortexlab.net/water-administrations/434c856c-633c-4e67-8346-3bd7c51131f9",
         "water_administered": 0.276
        },
        {
         "date_time": "2017-08-10T18:48:25",
         "hydrogel": true,
         "url": "https://alyx-dev.cortexlab.net/water-administrations/b00d7603-ffa9-4c88-a3b0-b41683db5fcd",
         "water_administered": 0.59
        },
        {
         "date_time": "2017-08-11T19:55:54",
         "hydrogel": false,
         "url": "https://alyx-dev.cortexlab.net/water-administrations/f37a9342-4cf9-4b24-ae78-3faf2548fce5",
         "water_administered": 0.192
        },
        {
         "date_time": "2017-08-11T20:13:50",
         "hydrogel": true,
         "url": "https://alyx-dev.cortexlab.net/water-administrations/85bea9d0-dfd6-440e-b4bf-f3294aac34d5",
         "water_administered": 0.68
        },
        {
         "date_time": "2017-08-12T21:16:34",
         "hydrogel": false,
         "url": "https://alyx-dev.cortexlab.net/water-administrations/d0504c2d-b2f1-4399-a1bc-68c4b1d5861d",
         "water_administered": 0.362
        },
        {
         "date_time": "2017-08-12T21:17:14",
         "hydrogel": true,
         "url": "https://alyx-dev.cortexlab.net/water-administrations/831448a5-da6d-4a32-b326-a603a1e41292",
         "water_administered": 0.53
        },
        {
         "date_time": "2017-08-13T18:29:03",
         "hydrogel": false,
         "url": "https://alyx-dev.cortexlab.net/water-administrations/95406464-30ae-4d6c-86be-c1b9b77981c2",
         "water_administered": 0.23
        },
        {
         "date_time": "2017-08-13T18:29:46",
         "hydrogel": true,
         "url": "https://alyx-dev.cortexlab.net/water-administrations/44ca61e1-f6e5-4eb5-ae32-c6a35181c25e",
         "water_administered": 0.64
        },
        {
         "date_time": "2017-08-14T20:23:09",
         "hydrogel": false,
         "url": "https://alyx-dev.cortexlab.net/water-administrations/621318a5-11a9-4856-af3b-7abfcaadf242",
         "water_administered": 0.43
        },
        {
         "date_time": "2017-08-14T20:23:37",
         "hydrogel": true,
         "url": "https://alyx-dev.cortexlab.net/water-administrations/442e8d8f-37dd-4420-b00c-1bfbd66634ba",
         "water_administered": 0.46
        },
        {
         "date_time": "2017-08-15T17:16:57",
         "hydrogel": false,
         "url": "https://alyx-dev.cortexlab.net/water-administrations/99183370-7909-45cc-b772-65d920421450",
         "water_administered": 0.014
        },
        {
         "date_time": "2017-08-15T18:37:28",
         "hydrogel": false,
         "url": "https://alyx-dev.cortexlab.net/water-administrations/eadd857e-3515-45de-91b2-a4d297e6f41c",
         "water_administered": 0.376
        },
        {
         "date_time": "2017-08-15T18:39:04",
         "hydrogel": true,
         "url": "https://alyx-dev.cortexlab.net/water-administrations/7c99f353-6603-4774-8f3e-5cc3b6e1e978",
         "water_administered": 0.46
        },
        {
         "date_time": "2017-08-16T18:14:25",
         "hydrogel": false,
         "url": "https://alyx-dev.cortexlab.net/water-administrations/df84bf26-2308-4929-8a65-f18fc81f6598",
         "water_administered": 0.424
        },
        {
         "date_time": "2017-08-16T18:16:30",
         "hydrogel": true,
         "url": "https://alyx-dev.cortexlab.net/water-administrations/5e95aa56-4fb5-4ea0-a15b-38a47fa6a8d1",
         "water_administered": 0.46
        },
        {
         "date_time": "2017-08-17T18:51:00",
         "hydrogel": false,
         "url": "https://alyx-dev.cortexlab.net/water-administrations/c2737b7f-d589-40ec-aa61-b8da10ec8227",
         "water_administered": 0.544
        },
        {
         "date_time": "2017-08-17T18:51:42",
         "hydrogel": true,
         "url": "https://alyx-dev.cortexlab.net/water-administrations/484cbcc4-2e93-43c9-a1d5-6b4c748fa341",
         "water_administered": 0.35
        },
        {
         "date_time": "2017-08-18T17:46:20",
         "hydrogel": false,
         "url": "https://alyx-dev.cortexlab.net/water-administrations/c37b53c6-229d-4dab-97ee-43967b1e7d9b",
         "water_administered": 0.5
        },
        {
         "date_time": "2017-08-18T17:46:53",
         "hydrogel": true,
         "url": "https://alyx-dev.cortexlab.net/water-administrations/8f41e8ce-63bc-437d-89e6-5f641ad8c7cb",
         "water_administered": 0.39
        },
        {
         "date_time": "2017-08-19T17:21:37",
         "hydrogel": false,
         "url": "https://alyx-dev.cortexlab.net/water-administrations/69216148-4d6e-4050-b10d-508abc74759b",
         "water_administered": 0.414
        },
        {
         "date_time": "2017-08-19T17:22:18",
         "hydrogel": true,
         "url": "https://alyx-dev.cortexlab.net/water-administrations/feb45bfb-6eae-4d95-a77d-ce6629af8f3b",
         "water_administered": 0.49
        },
        {
         "date_time": "2017-08-20T18:56:50",
         "hydrogel": true,
         "url": "https://alyx-dev.cortexlab.net/water-administrations/2781b760-e908-4f5f-8a89-735e4710f076",
         "water_administered": 0.9
        },
        {
         "date_time": "2017-08-21T18:07:17",
         "hydrogel": false,
         "url": "https://alyx-dev.cortexlab.net/water-administrations/a3933837-6830-4cdf-ba05-0cd79063457d",
         "water_administered": 0.432
        },
        {
         "date_time": "2017-08-21T19:51:21",
         "hydrogel": true,
         "url": "https://alyx-dev.cortexlab.net/water-administrations/ef5baa3f-da8d-41c8-b413-f81d5ccb98ee",
         "water_administered": 0.47
        },
        {
         "date_time": "2017-08-22T17:52:27",
         "hydrogel": false,
         "url": "https://alyx-dev.cortexlab.net/water-administrations/47243ab5-cb97-45dc-8191-5bb5432bff41",
         "water_administered": 0.594
        },
        {
         "date_time": "2017-08-22T18:02:10",
         "hydrogel": true,
         "url": "https://alyx-dev.cortexlab.net/water-administrations/88d52d94-4b45-4b2a-ad35-b1eec409d66e",
         "water_administered": 0.28
        },
        {
         "date_time": "2017-08-23T18:23:30",
         "hydrogel": false,
         "url": "https://alyx-dev.cortexlab.net/water-administrations/07b38070-e68c-47b1-a934-69dfbd265ed7",
         "water_administered": 0.496
        },
        {
         "date_time": "2017-08-23T18:25:16",
         "hydrogel": true,
         "url": "https://alyx-dev.cortexlab.net/water-administrations/221c3a89-2ea1-4c5a-96b4-25e25b5fd676",
         "water_administered": 0.41
        },
        {
         "date_time": "2017-08-24T17:34:00",
         "hydrogel": true,
         "url": "https://alyx-dev.cortexlab.net/water-administrations/2c1d4e63-4e17-496c-b7b0-80952924495d",
         "water_administered": 0.89
        },
        {
         "date_time": "2017-08-25T18:51:11",
         "hydrogel": false,
         "url": "https://alyx-dev.cortexlab.net/water-administrations/7ef21fef-8bce-45ae-9491-38723ed09093",
         "water_administered": 0.498
        },
        {
         "date_time": "2017-08-25T18:51:44",
         "hydrogel": true,
         "url": "https://alyx-dev.cortexlab.net/water-administrations/4cbbce0c-7989-4783-9c40-0c192fd0da54",
         "water_administered": 0.41
        },
        {
         "date_time": "2017-08-26T18:45:29",
         "hydrogel": false,
         "url": "https://alyx-dev.cortexlab.net/water-administrations/b4c6104d-4edc-4705-b414-ad65ab274a8c",
         "water_administered": 0.468
        },
        {
         "date_time": "2017-08-26T18:46:32",
         "hydrogel": true,
         "url": "https://alyx-dev.cortexlab.net/water-administrations/5077a072-7204-403e-a915-4bf8e3ed6a15",
         "water_administered": 0.43
        },
        {
         "date_time": "2017-08-28T16:27:56",
         "hydrogel": true,
         "url": "https://alyx-dev.cortexlab.net/water-administrations/19dac09b-8021-4ff0-af80-39b5857c3aca",
         "water_administered": 0.92
        },
        {
         "date_time": "2017-08-27T16:29:25",
         "hydrogel": true,
         "url": "https://alyx-dev.cortexlab.net/water-administrations/51868dc7-d21d-4448-9caa-ce92ea5ee2c4",
         "water_administered": 0.91
        },
        {
         "date_time": "2017-08-29T18:12:09",
         "hydrogel": false,
         "url": "https://alyx-dev.cortexlab.net/water-administrations/63a9c119-62a6-4013-9967-60691ad1cb1d",
         "water_administered": 0.61
        },
        {
         "date_time": "2017-08-29T18:12:59",
         "hydrogel": true,
         "url": "https://alyx-dev.cortexlab.net/water-administrations/e4a42255-6cba-47ae-ae4c-1280396b94eb",
         "water_administered": 0.3
        },
        {
         "date_time": "2017-08-30T17:43:05",
         "hydrogel": false,
         "url": "https://alyx-dev.cortexlab.net/water-administrations/068123b1-1cb1-4afc-8d35-99d8c82b214e",
         "water_administered": 0.792
        },
        {
         "date_time": "2017-08-30T17:43:29",
         "hydrogel": true,
         "url": "https://alyx-dev.cortexlab.net/water-administrations/f0f9722c-a22b-42ef-8e2d-3022cc82dd23",
         "water_administered": 0.13
        },
        {
         "date_time": "2017-08-31T16:53:10",
         "hydrogel": false,
         "url": "https://alyx-dev.cortexlab.net/water-administrations/02099d70-06f1-40b1-a898-9ef16a2aee4a",
         "water_administered": 0.836
        },
        {
         "date_time": "2017-08-31T16:54:08",
         "hydrogel": true,
         "url": "https://alyx-dev.cortexlab.net/water-administrations/829f1f5a-f707-4907-b18d-fa4acbbed3d8",
         "water_administered": 0.15
        },
        {
         "date_time": "2017-09-02T15:20:23",
         "hydrogel": true,
         "url": "https://alyx-dev.cortexlab.net/water-administrations/3201a7f6-2b2e-4059-9856-2e8d634e73fa",
         "water_administered": 0.91
        },
        {
         "date_time": "2017-09-03T15:20:23",
         "hydrogel": true,
         "url": "https://alyx-dev.cortexlab.net/water-administrations/e7226d40-363a-46e8-96ee-741115b85574",
         "water_administered": 0.94
        },
        {
         "date_time": "2017-09-01T16:52:50",
         "hydrogel": false,
         "url": "https://alyx-dev.cortexlab.net/water-administrations/bb573cee-c7c6-4a15-a60f-6a63a47e4d8c",
         "water_administered": 0.8
        },
        {
         "date_time": "2017-09-01T17:39:17",
         "hydrogel": true,
         "url": "https://alyx-dev.cortexlab.net/water-administrations/50aeb8d3-cb9d-4df9-95b5-aa6cad57fb5e",
         "water_administered": 0.31
        },
        {
         "date_time": "2017-09-04T19:09:40",
         "hydrogel": false,
         "url": "https://alyx-dev.cortexlab.net/water-administrations/622400eb-b96e-4b74-b342-0065621a4ffb",
         "water_administered": 0.74
        },
        {
         "date_time": "2017-09-04T19:10:45",
         "hydrogel": true,
         "url": "https://alyx-dev.cortexlab.net/water-administrations/db0fb2f3-3509-46ea-97e8-ead8032dde61",
         "water_administered": 0.18
        },
        {
         "date_time": "2017-09-05T19:07:33",
         "hydrogel": false,
         "url": "https://alyx-dev.cortexlab.net/water-administrations/f8b6c467-45c5-45c0-adfd-e8ec128371ef",
         "water_administered": 1.16
        },
        {
         "date_time": "2017-09-06T18:45:22",
         "hydrogel": false,
         "url": "https://alyx-dev.cortexlab.net/water-administrations/d200883f-9891-4d64-961e-21494cc7c4ab",
         "water_administered": 1.082
        },
        {
         "date_time": "2017-09-07T17:20:44",
         "hydrogel": false,
         "url": "https://alyx-dev.cortexlab.net/water-administrations/056b9ae9-2bd6-41b9-80eb-f3dd4a14048e",
         "water_administered": 0.688
        },
        {
         "date_time": "2017-09-07T17:29:57",
         "hydrogel": true,
         "url": "https://alyx-dev.cortexlab.net/water-administrations/3dbd4ebf-f03d-429f-ba58-a07ad75b4e43",
         "water_administered": 0.2
        },
        {
         "date_time": "2017-09-08T20:11:53",
         "hydrogel": false,
         "url": "https://alyx-dev.cortexlab.net/water-administrations/712effe0-a42f-453c-8eeb-e28751afa63c",
         "water_administered": 0.972
        },
        {
         "date_time": "2017-09-09T17:57:49",
         "hydrogel": false,
         "url": "https://alyx-dev.cortexlab.net/water-administrations/26223e17-b730-40bc-91a3-b491997737e6",
         "water_administered": 1.032
        },
        {
         "date_time": "2017-09-10T18:04:56",
         "hydrogel": false,
         "url": "https://alyx-dev.cortexlab.net/water-administrations/3c30fdcf-bb15-452b-ae9e-293501071c08",
         "water_administered": 1.114
        },
        {
         "date_time": "2017-09-11T21:22:38",
         "hydrogel": false,
         "url": "https://alyx-dev.cortexlab.net/water-administrations/4dcdf651-668e-4294-8581-a3fbb228d1f2",
         "water_administered": 1.2456
        },
        {
         "date_time": "2017-09-12T19:33:00",
         "hydrogel": false,
         "url": "https://alyx-dev.cortexlab.net/water-administrations/97679423-d91b-4a05-ad0b-57c700abc7c6",
         "water_administered": 0.9792
        },
        {
         "date_time": "2017-09-13T19:14:53",
         "hydrogel": false,
         "url": "https://alyx-dev.cortexlab.net/water-administrations/d0b7d84e-f04b-402e-9a61-4acda63d18c6",
         "water_administered": 1.0332
        },
        {
         "date_time": "2017-09-14T18:26:02",
         "hydrogel": false,
         "url": "https://alyx-dev.cortexlab.net/water-administrations/ccfa3648-65ff-48f2-8d56-38d931af7cae",
         "water_administered": 1.6794
        },
        {
         "date_time": "2017-09-16T17:38:20",
         "hydrogel": true,
         "url": "https://alyx-dev.cortexlab.net/water-administrations/d4f07c48-b886-4033-be93-894dba2bdcc1",
         "water_administered": 0.88
        },
        {
         "date_time": "2017-09-17T17:38:20",
         "hydrogel": true,
         "url": "https://alyx-dev.cortexlab.net/water-administrations/bce48dc5-0b33-48ab-84f5-5ef7af9b8109",
         "water_administered": 0.87
        },
        {
         "date_time": "2017-09-15T17:55:49",
         "hydrogel": false,
         "url": "https://alyx-dev.cortexlab.net/water-administrations/f910013e-d1e3-4fd2-979a-597ff40495bb",
         "water_administered": 0.099
        },
        {
         "date_time": "2017-09-15T18:00:35",
         "hydrogel": true,
         "url": "https://alyx-dev.cortexlab.net/water-administrations/90840f18-8783-46eb-b349-db289217cdef",
         "water_administered": 1.49
        },
        {
         "date_time": "2017-09-18T17:57:34",
         "hydrogel": false,
         "url": "https://alyx-dev.cortexlab.net/water-administrations/b5866ae6-4395-4f3d-93b3-0e4adad28f72",
         "water_administered": 1.0458
        },
        {
         "date_time": "2017-09-19T16:21:39",
         "hydrogel": false,
         "url": "https://alyx-dev.cortexlab.net/water-administrations/a88ebece-67a6-4295-ba52-fa3114659c9e",
         "water_administered": 0.9216
        },
        {
         "date_time": "2017-09-20T18:17:54",
         "hydrogel": false,
         "url": "https://alyx-dev.cortexlab.net/water-administrations/5f3e7d61-83de-48a9-84fb-f745a00870f7",
         "water_administered": 0.7488
        },
        {
         "date_time": "2017-09-20T18:18:28",
         "hydrogel": true,
         "url": "https://alyx-dev.cortexlab.net/water-administrations/64214b15-7e3e-43cb-ba9f-6486ef48151c",
         "water_administered": 0.18
        },
        {
         "date_time": "2017-09-21T17:03:24",
         "hydrogel": true,
         "url": "https://alyx-dev.cortexlab.net/water-administrations/45d0ffe6-5925-4b88-b128-20da99b110a6",
         "water_administered": 0.92
        },
        {
         "date_time": "2017-09-23T18:01:18",
         "hydrogel": true,
         "url": "https://alyx-dev.cortexlab.net/water-administrations/3404b9cc-342d-4693-9a24-eeb686eb0df8",
         "water_administered": 0.94
        },
        {
         "date_time": "2017-09-24T18:01:18",
         "hydrogel": true,
         "url": "https://alyx-dev.cortexlab.net/water-administrations/84e89e5a-2e40-4b51-bf81-0b4405133ebf",
         "water_administered": 0.95
        },
        {
         "date_time": "2017-09-22T18:43:10",
         "hydrogel": false,
         "url": "https://alyx-dev.cortexlab.net/water-administrations/34753b2a-899a-4a2f-846b-85bdc0c1058a",
         "water_administered": 0.747
        },
        {
         "date_time": "2017-09-22T18:44:21",
         "hydrogel": true,
         "url": "https://alyx-dev.cortexlab.net/water-administrations/57cf0123-1dc0-4608-8ed1-d34cf21cfc37",
         "water_administered": 0.17
        },
        {
         "date_time": "2017-09-25T18:21:20",
         "hydrogel": false,
         "url": "https://alyx-dev.cortexlab.net/water-administrations/f5bed0b5-6c5e-459c-a245-ed3a51f429c6",
         "water_administered": 0.9162
        },
        {
         "date_time": "2017-09-26T17:34:29",
         "hydrogel": false,
         "url": "https://alyx-dev.cortexlab.net/water-administrations/416144ba-6fa0-49b7-9ab3-7e1c5513c5e2",
         "water_administered": 0.8928
        },
        {
         "date_time": "2017-09-27T17:31:58",
         "hydrogel": false,
         "url": "https://alyx-dev.cortexlab.net/water-administrations/21d4412d-c160-4084-ac5a-d712d91e8a42",
         "water_administered": 0.2916
        },
        {
         "date_time": "2017-09-27T17:36:28",
         "hydrogel": true,
         "url": "https://alyx-dev.cortexlab.net/water-administrations/15376789-b8bd-4355-b347-dc89e6beeddb",
         "water_administered": 0.63
        },
        {
         "date_time": "2017-09-28T16:32:21",
         "hydrogel": true,
         "url": "https://alyx-dev.cortexlab.net/water-administrations/097111b9-4377-4d06-93c2-f4ebefed9516",
         "water_administered": 0.87
        },
        {
         "date_time": "2017-10-17T16:30:23",
         "hydrogel": false,
         "url": "https://alyx-dev.cortexlab.net/water-administrations/15efb126-a87e-419a-adaa-756c00ce49f5",
         "water_administered": 0.0017
        },
        {
         "date_time": "2017-10-17T17:10:46",
         "hydrogel": false,
         "url": "https://alyx-dev.cortexlab.net/water-administrations/c08a5d66-e786-4733-b319-f992b46b5c14",
         "water_administered": 0.0697
        },
        {
         "date_time": "2017-10-17T17:38:37",
         "hydrogel": true,
         "url": "https://alyx-dev.cortexlab.net/water-administrations/c40778ba-3412-43a3-9279-4464712bfe70",
         "water_administered": 0.9
        },
        {
         "date_time": "2017-10-18T18:30:10",
         "hydrogel": false,
         "url": "https://alyx-dev.cortexlab.net/water-administrations/c44b2e1f-cd81-4efc-aa93-d1f509b90b97",
         "water_administered": 0.3808
        },
        {
         "date_time": "2017-10-18T18:32:24",
         "hydrogel": true,
         "url": "https://alyx-dev.cortexlab.net/water-administrations/5323f268-7b13-4d8b-baba-233d3f161f18",
         "water_administered": 0.55
        },
        {
         "date_time": "2017-10-19T18:22:45",
         "hydrogel": false,
         "url": "https://alyx-dev.cortexlab.net/water-administrations/af158fd6-164c-4a72-802f-516af1154f02",
         "water_administered": 0.2159
        },
        {
         "date_time": "2017-10-19T18:24:20",
         "hydrogel": true,
         "url": "https://alyx-dev.cortexlab.net/water-administrations/a44b4326-3607-434e-b2a4-81ab627b980e",
         "water_administered": 0.67
        },
        {
         "date_time": "2017-10-20T16:03:47",
         "hydrogel": false,
         "url": "https://alyx-dev.cortexlab.net/water-administrations/fa02081d-8aac-43b1-86f3-e23e1d1bf2d8",
         "water_administered": 0.3808
        },
        {
         "date_time": "2017-10-21T16:37:49",
         "hydrogel": true,
         "url": "https://alyx-dev.cortexlab.net/water-administrations/05ad73c3-9b45-4b5b-924d-4d7365cffb06",
         "water_administered": 0.92
        },
        {
         "date_time": "2017-10-22T16:37:49",
         "hydrogel": true,
         "url": "https://alyx-dev.cortexlab.net/water-administrations/498da0c2-76af-4a5f-a731-97d18010bddf",
         "water_administered": 0.89
        },
        {
         "date_time": "2017-10-21T17:23:28",
         "hydrogel": true,
         "url": "https://alyx-dev.cortexlab.net/water-administrations/87220b0a-2085-4967-9146-b34f9728371b",
         "water_administered": 0.93
        },
        {
         "date_time": "2017-10-22T17:23:28",
         "hydrogel": true,
         "url": "https://alyx-dev.cortexlab.net/water-administrations/3150d79a-2058-4a3b-b897-226321aa7218",
         "water_administered": 0.92
        },
        {
         "date_time": "2017-10-20T17:26:00",
         "hydrogel": true,
         "url": "https://alyx-dev.cortexlab.net/water-administrations/68e83116-2e95-49d7-8735-d3ecd6f90271",
         "water_administered": 0.55
        },
        {
         "date_time": "2017-10-23T17:15:05",
         "hydrogel": false,
         "url": "https://alyx-dev.cortexlab.net/water-administrations/db6c32b8-2317-47cc-aff7-4c0b7a8e1e08",
         "water_administered": 0.6562
        },
        {
         "date_time": "2017-10-23T17:15:20",
         "hydrogel": true,
         "url": "https://alyx-dev.cortexlab.net/water-administrations/c93fa265-18a0-43e5-8a51-0293401a3ca7",
         "water_administered": 0.22
        },
        {
         "date_time": "2017-10-24T16:34:52",
         "hydrogel": false,
         "url": "https://alyx-dev.cortexlab.net/water-administrations/87b2ceed-2c25-409d-81e4-d69d68c9ffe0",
         "water_administered": 0.4845
        },
        {
         "date_time": "2017-10-24T16:36:47",
         "hydrogel": true,
         "url": "https://alyx-dev.cortexlab.net/water-administrations/1564c134-d78f-48de-9065-1f54223884ce",
         "water_administered": 0.38
        },
        {
         "date_time": "2017-10-25T16:45:34",
         "hydrogel": false,
         "url": "https://alyx-dev.cortexlab.net/water-administrations/68cea9f8-2a0f-4110-8ec9-2a3794cf66d1",
         "water_administered": 0.5032
        },
        {
         "date_time": "2017-10-25T16:47:07",
         "hydrogel": true,
         "url": "https://alyx-dev.cortexlab.net/water-administrations/eea60f5b-3c13-4a6e-bbb8-f0084ae20b2b",
         "water_administered": 0.38
        },
        {
         "date_time": "2017-10-26T16:10:17",
         "hydrogel": false,
         "url": "https://alyx-dev.cortexlab.net/water-administrations/19a43a12-dc3f-4bb9-9cbe-14e486309994",
         "water_administered": 0.0918
        },
        {
         "date_time": "2017-10-26T17:03:30",
         "hydrogel": false,
         "url": "https://alyx-dev.cortexlab.net/water-administrations/09a64686-c53f-4b9d-a7e6-643bac23e108",
         "water_administered": 0.4675
        },
        {
         "date_time": "2017-10-26T17:04:26",
         "hydrogel": true,
         "url": "https://alyx-dev.cortexlab.net/water-administrations/4ef2f9b0-bca2-4beb-a6c3-50c02eccdd9b",
         "water_administered": 0.33
        },
        {
         "date_time": "2017-10-27T17:00:22",
         "hydrogel": false,
         "url": "https://alyx-dev.cortexlab.net/water-administrations/ddfdcbfb-5398-4f8b-83dd-e67808d736cb",
         "water_administered": 0.7084
        },
        {
         "date_time": "2017-10-28T17:07:50",
         "hydrogel": true,
         "url": "https://alyx-dev.cortexlab.net/water-administrations/750b6c25-2aba-43b4-88a8-5efe5730df68",
         "water_administered": 1.03
        },
        {
         "date_time": "2017-10-29T17:07:50",
         "hydrogel": true,
         "url": "https://alyx-dev.cortexlab.net/water-administrations/f4b2070f-18a3-43bd-8034-c518a8651c10",
         "water_administered": 0.91
        },
        {
         "date_time": "2017-10-27T17:09:58",
         "hydrogel": true,
         "url": "https://alyx-dev.cortexlab.net/water-administrations/f5eea069-48a4-456f-bee0-c1528c7a16dd",
         "water_administered": 0.24
        }
       ],
       "water_requirement_remaining": 0.8612000000000001,
       "water_requirement_total": 0.8612000000000001,
       "weighings": [
        {
         "date_time": "2017-08-02T17:34:55.985899",
         "url": "https://alyx-dev.cortexlab.net/weighings/77e9393a-ba7d-4a1d-8ada-418452f06d1d",
         "weight": 24.94
        },
        {
         "date_time": "2017-08-03T18:56:35.057400",
         "url": "https://alyx-dev.cortexlab.net/weighings/5a9e2e81-4f9c-4214-9012-c57745156833",
         "weight": 20.49
        },
        {
         "date_time": "2017-08-04T19:16:59.924738",
         "url": "https://alyx-dev.cortexlab.net/weighings/7efff8a4-eff7-44bf-9fe1-f6fbe85931fa",
         "weight": 21.53
        },
        {
         "date_time": "2017-08-05T16:52:22.580174",
         "url": "https://alyx-dev.cortexlab.net/weighings/6f0a32c6-5c70-44ba-b81c-5850ef136c29",
         "weight": 21.23
        },
        {
         "date_time": "2017-08-06T18:58:50.215362",
         "url": "https://alyx-dev.cortexlab.net/weighings/c21d0c9e-1b05-4a4e-937c-5e76cfcd0a22",
         "weight": 20.79
        },
        {
         "date_time": "2017-08-07T17:39:02.745718",
         "url": "https://alyx-dev.cortexlab.net/weighings/a2d99117-6d0c-4c9c-b040-4b52f49eb0a7",
         "weight": 20.69
        },
        {
         "date_time": "2017-08-08T17:55:38.098900",
         "url": "https://alyx-dev.cortexlab.net/weighings/817bfce3-b30e-4575-815f-d3d947762fee",
         "weight": 20.42
        },
        {
         "date_time": "2017-08-09T16:15:14.457491",
         "url": "https://alyx-dev.cortexlab.net/weighings/fa089324-26bb-4e5c-9b4c-f04378263acd",
         "weight": 82.59
        },
        {
         "date_time": "2017-08-09T16:15:41.080624",
         "url": "https://alyx-dev.cortexlab.net/weighings/419311b6-9821-4c8c-87bd-ede568d75040",
         "weight": 20.59
        },
        {
         "date_time": "2017-08-10T17:22:17.412002",
         "url": "https://alyx-dev.cortexlab.net/weighings/1f3b0bae-019a-44d3-9de4-99020357cb0c",
         "weight": 20.46
        },
        {
         "date_time": "2017-08-11T18:30:19.565066",
         "url": "https://alyx-dev.cortexlab.net/weighings/97123467-285e-42f8-9f13-3146eb673db0",
         "weight": 20.53
        },
        {
         "date_time": "2017-08-12T19:47:35.263294",
         "url": "https://alyx-dev.cortexlab.net/weighings/5ebf9ae6-9e36-462b-a791-8b8a755705d2",
         "weight": 20.57
        },
        {
         "date_time": "2017-08-13T17:01:27.026064",
         "url": "https://alyx-dev.cortexlab.net/weighings/d49644c6-a09c-41ee-9c56-21ea7a1638f2",
         "weight": 20.75
        },
        {
         "date_time": "2017-08-14T18:55:10.392528",
         "url": "https://alyx-dev.cortexlab.net/weighings/3b54fd07-f987-4280-9d22-c04a73d925f0",
         "weight": 20.66
        },
        {
         "date_time": "2017-08-15T17:08:21.340378",
         "url": "https://alyx-dev.cortexlab.net/weighings/d851e966-3d62-46d1-a166-8f57e33cebf6",
         "weight": 20.76
        },
        {
         "date_time": "2017-08-16T16:50:06.597226",
         "url": "https://alyx-dev.cortexlab.net/weighings/b213176e-35ca-4949-968c-9b61329cf755",
         "weight": 21.06
        },
        {
         "date_time": "2017-08-17T17:24:52.659625",
         "url": "https://alyx-dev.cortexlab.net/weighings/a36d1d0b-1fba-4e0c-bb7c-90ba225cae41",
         "weight": 21.35
        },
        {
         "date_time": "2017-08-18T16:16:29.028119",
         "url": "https://alyx-dev.cortexlab.net/weighings/9a2ab411-6be9-4293-9aad-4b72f4517a89",
         "weight": 21.43
        },
        {
         "date_time": "2017-08-19T15:54:01.586513",
         "url": "https://alyx-dev.cortexlab.net/weighings/91ba8cb9-7600-4f5d-b067-e403737d12f2",
         "weight": 21.39
        },
        {
         "date_time": "2017-08-21T16:41:12.183169",
         "url": "https://alyx-dev.cortexlab.net/weighings/2fb3e89f-d3d2-42bb-8ebd-ee5c3d58588e",
         "weight": 21.36
        },
        {
         "date_time": "2017-08-22T16:28:02.494815",
         "url": "https://alyx-dev.cortexlab.net/weighings/aa72f8eb-d823-453d-b941-058b33854ebe",
         "weight": 21.26
        },
        {
         "date_time": "2017-08-23T17:00:56.892956",
         "url": "https://alyx-dev.cortexlab.net/weighings/beb98e53-9505-4c9f-a64b-1377390f8afd",
         "weight": 21.3
        },
        {
         "date_time": "2017-08-25T17:47:11.601379",
         "url": "https://alyx-dev.cortexlab.net/weighings/43e49030-f802-4026-808f-a732e3c88320",
         "weight": 21.69
        },
        {
         "date_time": "2017-08-26T17:41:32.980231",
         "url": "https://alyx-dev.cortexlab.net/weighings/5a5c0a37-74b4-4bb7-b5bb-f0e8b66e5eeb",
         "weight": 21.76
        },
        {
         "date_time": "2017-08-29T17:00:11.288502",
         "url": "https://alyx-dev.cortexlab.net/weighings/4be699e4-7fba-4468-a385-343fac786f33",
         "weight": 22.15
        },
        {
         "date_time": "2017-08-30T16:29:01.531390",
         "url": "https://alyx-dev.cortexlab.net/weighings/c0b50492-0e11-4fd8-bca2-a529514ea05a",
         "weight": 21.97
        },
        {
         "date_time": "2017-08-31T15:37:27.184050",
         "url": "https://alyx-dev.cortexlab.net/weighings/1e111667-2b36-4a0d-9921-ada1193000e2",
         "weight": 21.77
        },
        {
         "date_time": "2017-09-01T15:46:29.299289",
         "url": "https://alyx-dev.cortexlab.net/weighings/6bf9538d-dee3-473f-8449-144854839faa",
         "weight": 21.69
        },
        {
         "date_time": "2017-09-04T17:04:02.646648",
         "url": "https://alyx-dev.cortexlab.net/weighings/0b02b4fb-44f7-4289-b909-5fb5733b3df8",
         "weight": 21.6
        },
        {
         "date_time": "2017-09-05T16:56:34",
         "url": "https://alyx-dev.cortexlab.net/weighings/3a4d41ae-f610-4b5f-b73b-36bce50dc007",
         "weight": 21.4
        },
        {
         "date_time": "2017-09-06T17:06:57.385617",
         "url": "https://alyx-dev.cortexlab.net/weighings/54aef4fa-8361-4a00-b8cf-bc39b2a142f3",
         "weight": 21.49
        },
        {
         "date_time": "2017-09-07T16:14:18.067809",
         "url": "https://alyx-dev.cortexlab.net/weighings/f8ac18c2-9fa3-40b7-b6f4-2efbfa98be40",
         "weight": 21.37
        },
        {
         "date_time": "2017-09-08T18:46:57.629219",
         "url": "https://alyx-dev.cortexlab.net/weighings/84d36a4c-6ce9-4fd9-a507-d167710ef8fc",
         "weight": 21.02
        },
        {
         "date_time": "2017-09-09T16:19:57.770922",
         "url": "https://alyx-dev.cortexlab.net/weighings/2fc68e63-abb3-458e-b044-23bc8d95ae94",
         "weight": 21.15
        },
        {
         "date_time": "2017-09-10T16:07:16.745040",
         "url": "https://alyx-dev.cortexlab.net/weighings/3a2da65d-4219-407e-ae0b-110e4dc6ffd3",
         "weight": 21.11
        },
        {
         "date_time": "2017-09-11T19:01:45.595386",
         "url": "https://alyx-dev.cortexlab.net/weighings/0c1deb9f-8b16-4fb3-a3c3-dc2cbee7506c",
         "weight": 21.24
        },
        {
         "date_time": "2017-09-12T17:47:29.808664",
         "url": "https://alyx-dev.cortexlab.net/weighings/8f1295ae-f179-4541-b6e1-243443bca69b",
         "weight": 21.12
        },
        {
         "date_time": "2017-09-13T17:29:19.455914",
         "url": "https://alyx-dev.cortexlab.net/weighings/dc142b9a-256d-418f-b629-6caa6844283e",
         "weight": 21.09
        },
        {
         "date_time": "2017-09-14T16:01:43.422372",
         "url": "https://alyx-dev.cortexlab.net/weighings/857383b4-f3f8-4bd3-b8e4-4427a747c01d",
         "weight": 21.07
        },
        {
         "date_time": "2017-09-15T17:31:33.203903",
         "url": "https://alyx-dev.cortexlab.net/weighings/00e0bb81-2254-442c-90b1-da3d1be6bc9b",
         "weight": 20.75
        },
        {
         "date_time": "2017-09-18T16:28:50.768353",
         "url": "https://alyx-dev.cortexlab.net/weighings/6d456228-98e1-4e1d-bc11-a6f9f2c0f650",
         "weight": 22.95
        },
        {
         "date_time": "2017-09-19T14:59:09.985273",
         "url": "https://alyx-dev.cortexlab.net/weighings/106cb7ea-a996-40d9-8c0e-3f08de180f98",
         "weight": 22.35
        },
        {
         "date_time": "2017-09-20T17:15:23.755557",
         "url": "https://alyx-dev.cortexlab.net/weighings/af3fa5e0-aa4c-4a37-bbe2-ad10c2e78816",
         "weight": 22.11
        },
        {
         "date_time": "2017-09-22T17:43:22.609974",
         "url": "https://alyx-dev.cortexlab.net/weighings/468a6a77-34c1-4cc7-851b-8917c1733ca0",
         "weight": 22.2
        },
        {
         "date_time": "2017-09-25T18:21:44.544357",
         "url": "https://alyx-dev.cortexlab.net/weighings/2e9283bb-4e80-4bc9-b625-9e75f0ea8790",
         "weight": 21.7
        },
        {
         "date_time": "2017-09-26T16:05:45.277972",
         "url": "https://alyx-dev.cortexlab.net/weighings/891ad417-0bc9-4828-aaed-39a043f7a07e",
         "weight": 21.48
        },
        {
         "date_time": "2017-09-27T16:57:26.896968",
         "url": "https://alyx-dev.cortexlab.net/weighings/1a8dd8c4-709e-474b-a65e-92e8cd4e75f7",
         "weight": 21.23
        },
        {
         "date_time": "2017-10-16T16:29:32.694936",
         "url": "https://alyx-dev.cortexlab.net/weighings/64976c2a-6eb5-45d5-999c-4105ad7fd28e",
         "weight": 25.4
        },
        {
         "date_time": "2017-10-17T16:32:20.373820",
         "url": "https://alyx-dev.cortexlab.net/weighings/c78ca4bf-dfa8-4378-b5e6-50edae6dfe20",
         "weight": 22.78
        },
        {
         "date_time": "2017-10-18T17:25:28.317114",
         "url": "https://alyx-dev.cortexlab.net/weighings/2f478caa-035e-4e53-b991-8f73709d5b23",
         "weight": 22
        },
        {
         "date_time": "2017-10-19T17:19:31.615112",
         "url": "https://alyx-dev.cortexlab.net/weighings/d02710ed-6e13-4ec1-92a8-ca9faaeccdc0",
         "weight": 21.69
        },
        {
         "date_time": "2017-10-20T14:59:40.931581",
         "url": "https://alyx-dev.cortexlab.net/weighings/df97fd87-5be8-40ae-904f-0e3494e09640",
         "weight": 21.69
        },
        {
         "date_time": "2017-10-23T16:13:46.294090",
         "url": "https://alyx-dev.cortexlab.net/weighings/c0b0a2f4-d51d-44e4-ade6-dd6c590eff9c",
         "weight": 21.48
        },
        {
         "date_time": "2017-10-24T15:39:02.754656",
         "url": "https://alyx-dev.cortexlab.net/weighings/2cd6684d-5ba1-4d9d-80ce-794fb03d25f3",
         "weight": 21.44
        },
        {
         "date_time": "2017-10-25T15:55:04.032592",
         "url": "https://alyx-dev.cortexlab.net/weighings/d492c2f3-ee9e-4011-b2b4-27cd216b4fb9",
         "weight": 21.43
        },
        {
         "date_time": "2017-10-26T15:52:09",
         "url": "https://alyx-dev.cortexlab.net/weighings/36aa3123-e269-485f-af8f-25566fb692fa",
         "weight": 21.42
        },
        {
         "date_time": "2017-10-27T15:52:46.539249",
         "url": "https://alyx-dev.cortexlab.net/weighings/75b85bf9-c4c0-40a8-96ef-2758165b96a3",
         "weight": 21.53
        }
       ]
      },
      "text/plain": [
       "<IPython.core.display.JSON object>"
      ]
     },
     "execution_count": 12,
     "metadata": {
      "application/json": {
       "expanded": false
      }
     },
     "output_type": "execute_result"
    }
   ],
   "source": [
    "get(BASEURL + \"/subjects/Ryztinge\")"
   ]
  },
  {
   "cell_type": "markdown",
   "metadata": {},
   "source": [
    "## Querying existing dataset types"
   ]
  },
  {
   "cell_type": "code",
   "execution_count": 15,
   "metadata": {},
   "outputs": [
    {
     "data": {
      "application/json": {
       "count": 25,
       "next": null,
       "previous": null,
       "results": [
        {
         "created_by": "miles",
         "description": "",
         "filename_pattern": "*_Block.*",
         "name": "Block"
        },
        {
         "created_by": "miles",
         "description": "Size of the water reward given in microlitres",
         "filename_pattern": "cwFeedback.rewardVolume.*",
         "name": "cwFeedback.rewardVolume"
        },
        {
         "created_by": "miles",
         "description": "Time of feedback delivery (reward or not) in choiceworld",
         "filename_pattern": "cwFeedback.times.*",
         "name": "cwFeedback.times"
        },
        {
         "created_by": "miles",
         "description": "Whether feedback is positive or negative in choiceworld (-1 for negative, +1 for positive)",
         "filename_pattern": "cwFeedback.type.*",
         "name": "cwFeedback.type"
        },
        {
         "created_by": "miles",
         "description": "Time of go cues in choiceworld",
         "filename_pattern": "cwGoCue.times.*",
         "name": "cwGoCue.times"
        },
        {
         "created_by": "miles",
         "description": "which choice was made in choiceworld: 1 (choose left), 2 (right), or 3 (nogo)",
         "filename_pattern": "cwResponse.choice.*",
         "name": "cwResponse.choice"
        },
        {
         "created_by": "miles",
         "description": "Time of \"response\" (software logs that the mouse made a response online) in choiceworld",
         "filename_pattern": "cwResponse.times.*",
         "name": "cwResponse.times"
        },
        {
         "created_by": "miles",
         "description": "left-side contrast of stimulus in choiceworld (%)",
         "filename_pattern": "cwStimOn.contrastLeft.*",
         "name": "cwStimOn.contrastLeft"
        },
        {
         "created_by": "miles",
         "description": "right-side contrast of stimulus in choiceworld (%)",
         "filename_pattern": "cwStimOn.contrastRight.*",
         "name": "cwStimOn.contrastRight"
        },
        {
         "created_by": "miles",
         "description": "Times of stimuli in choiceworld",
         "filename_pattern": "cwStimOn.times.*",
         "name": "cwStimOn.times"
        },
        {
         "created_by": "miles",
         "description": "boolean suggesting which trials to include in analysis, chosen at experimenter discretion, e.g. by excluding the block of incorrect trials at the end of the session when the mouse has stopped",
         "filename_pattern": "cwTrials.inclTrials.*",
         "name": "cwTrials.inclTrials"
        },
        {
         "created_by": "miles",
         "description": "Start and stop times of trials in choiceworld",
         "filename_pattern": "cwTrials.intervals.*",
         "name": "cwTrials.intervals"
        },
        {
         "created_by": "miles",
         "description": "the repetition number of the trial, i.e. if it is the same condition as the previous trial(s)",
         "filename_pattern": "cwTrials.repNum.*",
         "name": "cwTrials.repNum"
        },
        {
         "created_by": "miles",
         "description": "Definition of the experiment the was run, e.g. MPEP xfile or Signals defFunction (expDef)",
         "filename_pattern": "*_expDef.*",
         "name": "expDefinition"
        },
        {
         "created_by": "peter",
         "description": "Laser galvo stimulation log",
         "filename_pattern": "*_galvoLog.*",
         "name": "galvoLog"
        },
        {
         "created_by": "miles",
         "description": "An object containing information about the hardware settings used at an experimental rig",
         "filename_pattern": "*_hardwareInfo.*",
         "name": "Hardware Info"
        },
        {
         "created_by": null,
         "description": "local field potential raw data",
         "filename_pattern": "lfp.raw.*",
         "name": "lfp.raw"
        },
        {
         "created_by": "miles",
         "description": "A set of experiment-specific parameters and their values",
         "filename_pattern": "*_parameters.json",
         "name": "Parameters"
        },
        {
         "created_by": "miles",
         "description": "df/f of the calcium trace recorded in the left hemisphere",
         "filename_pattern": "photometry.calciumLeft_normalized.*",
         "name": "photometry.calciumLeft_normalized"
        },
        {
         "created_by": "miles",
         "description": "df/f of the calcium trace recorded in the right hemisphere",
         "filename_pattern": "photometry.calciumRight_normalized.*",
         "name": "photometry.calciumRight_normalized"
        },
        {
         "created_by": "miles",
         "description": "Timestamps for the calcium timeseries",
         "filename_pattern": "photometry.timestamps.*",
         "name": "photometry.timestamps"
        },
        {
         "created_by": null,
         "description": "",
         "filename_pattern": "-",
         "name": "unknown"
        },
        {
         "created_by": "miles",
         "description": "Absolute position of wheel (cm)",
         "filename_pattern": "Wheel.position.*",
         "name": "wheel.position"
        },
        {
         "created_by": "miles",
         "description": "Timestamps for wheel timeseries",
         "filename_pattern": "Wheel.timestamps.*",
         "name": "wheel.timestamps"
        },
        {
         "created_by": "miles",
         "description": "Signed velocity of wheel (cm/s)",
         "filename_pattern": "Wheel.velocity.*",
         "name": "wheel.velocity"
        }
       ]
      },
      "text/plain": [
       "<IPython.core.display.JSON object>"
      ]
     },
     "execution_count": 15,
     "metadata": {
      "application/json": {
       "expanded": false
      }
     },
     "output_type": "execute_result"
    }
   ],
   "source": [
    "get(BASEURL + '/dataset-types')"
   ]
  },
  {
   "cell_type": "markdown",
   "metadata": {},
   "source": [
    "## Searching sessions with specific dataset types"
   ]
  },
  {
   "cell_type": "code",
   "execution_count": 18,
   "metadata": {},
   "outputs": [
    {
     "data": {
      "application/json": {
       "count": 2,
       "next": null,
       "previous": null,
       "results": [
        {
         "data_dataset_session_related": [
          {
           "data_format": "npy",
           "data_url": null,
           "dataset_type": "wheel.position",
           "id": "5c990a97-6d07-4c24-9c62-18cfdea0f8d6",
           "name": "Wheel.position.npy",
           "url": "https://alyx-dev.cortexlab.net/datasets/5c990a97-6d07-4c24-9c62-18cfdea0f8d6"
          },
          {
           "data_format": "npy",
           "data_url": null,
           "dataset_type": "wheel.timestamps",
           "id": "157c98dc-f1ee-4a11-b981-b15e6bbb66be",
           "name": "Wheel.timestamps.npy",
           "url": "https://alyx-dev.cortexlab.net/datasets/157c98dc-f1ee-4a11-b981-b15e6bbb66be"
          },
          {
           "data_format": "npy",
           "data_url": null,
           "dataset_type": "wheel.velocity",
           "id": "96f8ba99-f4d0-41ea-981d-8f5bad28f816",
           "name": "Wheel.velocity.npy",
           "url": "https://alyx-dev.cortexlab.net/datasets/96f8ba99-f4d0-41ea-981d-8f5bad28f816"
          },
          {
           "data_format": "npy",
           "data_url": null,
           "dataset_type": "cwFeedback.rewardVolume",
           "id": "1cfdecb3-fb0a-4b07-98fe-c1a767346888",
           "name": "cwFeedback.rewardVolume.npy",
           "url": "https://alyx-dev.cortexlab.net/datasets/1cfdecb3-fb0a-4b07-98fe-c1a767346888"
          },
          {
           "data_format": "npy",
           "data_url": null,
           "dataset_type": "cwFeedback.times",
           "id": "2972c3b2-3857-4f13-bdc7-ce78a4988fce",
           "name": "cwFeedback.times.npy",
           "url": "https://alyx-dev.cortexlab.net/datasets/2972c3b2-3857-4f13-bdc7-ce78a4988fce"
          },
          {
           "data_format": "npy",
           "data_url": null,
           "dataset_type": "cwFeedback.type",
           "id": "758df076-a3f1-4588-8808-dc14a7caf755",
           "name": "cwFeedback.type.npy",
           "url": "https://alyx-dev.cortexlab.net/datasets/758df076-a3f1-4588-8808-dc14a7caf755"
          },
          {
           "data_format": "npy",
           "data_url": null,
           "dataset_type": "cwGoCue.times",
           "id": "ad78d5e1-1297-45a9-a178-f5d30412088b",
           "name": "cwGoCue.times.npy",
           "url": "https://alyx-dev.cortexlab.net/datasets/ad78d5e1-1297-45a9-a178-f5d30412088b"
          },
          {
           "data_format": "npy",
           "data_url": null,
           "dataset_type": "cwResponse.choice",
           "id": "409e40ff-d53c-42e5-8134-f3d9e5f7dc45",
           "name": "cwResponse.choice.npy",
           "url": "https://alyx-dev.cortexlab.net/datasets/409e40ff-d53c-42e5-8134-f3d9e5f7dc45"
          },
          {
           "data_format": "npy",
           "data_url": null,
           "dataset_type": "cwResponse.times",
           "id": "d944fce7-b4d9-46a2-ba89-ad0774861315",
           "name": "cwResponse.times.npy",
           "url": "https://alyx-dev.cortexlab.net/datasets/d944fce7-b4d9-46a2-ba89-ad0774861315"
          },
          {
           "data_format": "npy",
           "data_url": null,
           "dataset_type": "cwStimOn.contrastLeft",
           "id": "565c59e2-a156-469c-8d96-59b5e8111d79",
           "name": "cwStimOn.contrastLeft.npy",
           "url": "https://alyx-dev.cortexlab.net/datasets/565c59e2-a156-469c-8d96-59b5e8111d79"
          },
          {
           "data_format": "npy",
           "data_url": null,
           "dataset_type": "cwStimOn.contrastRight",
           "id": "6a2f6ce1-fa76-4a24-bb3e-90bee2650bf4",
           "name": "cwStimOn.contrastRight.npy",
           "url": "https://alyx-dev.cortexlab.net/datasets/6a2f6ce1-fa76-4a24-bb3e-90bee2650bf4"
          },
          {
           "data_format": "npy",
           "data_url": null,
           "dataset_type": "cwStimOn.times",
           "id": "24badc62-d483-44dd-a359-6f2a8518f865",
           "name": "cwStimOn.times.npy",
           "url": "https://alyx-dev.cortexlab.net/datasets/24badc62-d483-44dd-a359-6f2a8518f865"
          },
          {
           "data_format": "npy",
           "data_url": null,
           "dataset_type": "cwTrials.inclTrials",
           "id": "616382a1-2eca-49f4-a77c-cd5b72c3ac01",
           "name": "cwTrials.inclTrials.npy",
           "url": "https://alyx-dev.cortexlab.net/datasets/616382a1-2eca-49f4-a77c-cd5b72c3ac01"
          },
          {
           "data_format": "npy",
           "data_url": null,
           "dataset_type": "cwTrials.intervals",
           "id": "f2169c16-7f98-4c81-b43b-5dbdcf199e3c",
           "name": "cwTrials.intervals.npy",
           "url": "https://alyx-dev.cortexlab.net/datasets/f2169c16-7f98-4c81-b43b-5dbdcf199e3c"
          },
          {
           "data_format": "npy",
           "data_url": null,
           "dataset_type": "cwTrials.repNum",
           "id": "b7beac27-380c-4d53-ac12-3640c1ea7df4",
           "name": "cwTrials.repNum.npy",
           "url": "https://alyx-dev.cortexlab.net/datasets/b7beac27-380c-4d53-ac12-3640c1ea7df4"
          },
          {
           "data_format": "m",
           "data_url": null,
           "dataset_type": "expDefinition",
           "id": "4cb3dd56-5866-459c-8c9b-09ceed2d9daa",
           "name": "2018-05-21_1_DJ009_expDef.m",
           "url": "https://alyx-dev.cortexlab.net/datasets/4cb3dd56-5866-459c-8c9b-09ceed2d9daa"
          },
          {
           "data_format": "mat",
           "data_url": null,
           "dataset_type": "Block",
           "id": "683e8b95-089e-4a0a-a7a8-b51d406329ac",
           "name": "2018-05-21_1_DJ009_Block.mat",
           "url": "https://alyx-dev.cortexlab.net/datasets/683e8b95-089e-4a0a-a7a8-b51d406329ac"
          },
          {
           "data_format": "json",
           "data_url": null,
           "dataset_type": "Parameters",
           "id": "4fbac512-c6b7-4312-95cb-f43055bdffcd",
           "name": "2018-05-21_1_DJ009_parameters.json",
           "url": "https://alyx-dev.cortexlab.net/datasets/4fbac512-c6b7-4312-95cb-f43055bdffcd"
          },
          {
           "data_format": "json",
           "data_url": null,
           "dataset_type": "Hardware Info",
           "id": "e6757e87-bb4e-48b9-a9d9-cb8362aefc14",
           "name": "2018-05-21_1_DJ009_hardwareInfo.json",
           "url": "https://alyx-dev.cortexlab.net/datasets/e6757e87-bb4e-48b9-a9d9-cb8362aefc14"
          }
         ],
         "end_time": "2018-05-21T10:53:28",
         "location": null,
         "narrative": "M",
         "number": 1,
         "parent_session": "https://alyx-dev.cortexlab.net/sessions/c1cd49d7-5ac5-4d22-a5e1-ac60f8d12d1f",
         "procedures": [
          "Behavior training/tasks"
         ],
         "start_time": "2018-05-21T10:52:40",
         "subject": "DJ009",
         "type": "Experiment",
         "url": "https://alyx-dev.cortexlab.net/sessions/d27c281b-1bef-4572-bf8d-4a8d6cf0788d",
         "users": [
          "miles"
         ]
        },
        {
         "data_dataset_session_related": [
          {
           "data_format": "npy",
           "data_url": null,
           "dataset_type": "wheel.position",
           "id": "1bf0b51e-afaa-48d0-b702-e0af9ae55963",
           "name": "Wheel.position.npy",
           "url": "https://alyx-dev.cortexlab.net/datasets/1bf0b51e-afaa-48d0-b702-e0af9ae55963"
          },
          {
           "data_format": "npy",
           "data_url": null,
           "dataset_type": "wheel.timestamps",
           "id": "28d19e38-6a62-4918-810d-2bb24a99f8f8",
           "name": "Wheel.timestamps.npy",
           "url": "https://alyx-dev.cortexlab.net/datasets/28d19e38-6a62-4918-810d-2bb24a99f8f8"
          },
          {
           "data_format": "npy",
           "data_url": null,
           "dataset_type": "wheel.velocity",
           "id": "5ea01c84-006f-4e71-a729-1800da0daa22",
           "name": "Wheel.velocity.npy",
           "url": "https://alyx-dev.cortexlab.net/datasets/5ea01c84-006f-4e71-a729-1800da0daa22"
          },
          {
           "data_format": "npy",
           "data_url": null,
           "dataset_type": "cwFeedback.rewardVolume",
           "id": "e2894fc5-22c0-416a-857b-cf9b8ead257d",
           "name": "cwFeedback.rewardVolume.npy",
           "url": "https://alyx-dev.cortexlab.net/datasets/e2894fc5-22c0-416a-857b-cf9b8ead257d"
          },
          {
           "data_format": "npy",
           "data_url": null,
           "dataset_type": "cwFeedback.times",
           "id": "619dd6db-81a2-42b3-b232-fae8138d62dc",
           "name": "cwFeedback.times.npy",
           "url": "https://alyx-dev.cortexlab.net/datasets/619dd6db-81a2-42b3-b232-fae8138d62dc"
          },
          {
           "data_format": "npy",
           "data_url": null,
           "dataset_type": "cwFeedback.type",
           "id": "e96af1e9-de23-4a47-abbc-1ebed0b66908",
           "name": "cwFeedback.type.npy",
           "url": "https://alyx-dev.cortexlab.net/datasets/e96af1e9-de23-4a47-abbc-1ebed0b66908"
          },
          {
           "data_format": "npy",
           "data_url": null,
           "dataset_type": "cwGoCue.times",
           "id": "c182023c-6097-47bb-86d6-5e5e74a3738f",
           "name": "cwGoCue.times.npy",
           "url": "https://alyx-dev.cortexlab.net/datasets/c182023c-6097-47bb-86d6-5e5e74a3738f"
          },
          {
           "data_format": "npy",
           "data_url": null,
           "dataset_type": "cwResponse.choice",
           "id": "1231ede5-8113-43ec-9106-19881058987b",
           "name": "cwResponse.choice.npy",
           "url": "https://alyx-dev.cortexlab.net/datasets/1231ede5-8113-43ec-9106-19881058987b"
          },
          {
           "data_format": "npy",
           "data_url": null,
           "dataset_type": "cwResponse.times",
           "id": "36c546ae-1513-4ca8-9f07-07fd99b8ccb4",
           "name": "cwResponse.times.npy",
           "url": "https://alyx-dev.cortexlab.net/datasets/36c546ae-1513-4ca8-9f07-07fd99b8ccb4"
          },
          {
           "data_format": "npy",
           "data_url": null,
           "dataset_type": "cwStimOn.contrastLeft",
           "id": "602612cc-45e0-48d3-b4b0-5ef0c257f3cc",
           "name": "cwStimOn.contrastLeft.npy",
           "url": "https://alyx-dev.cortexlab.net/datasets/602612cc-45e0-48d3-b4b0-5ef0c257f3cc"
          },
          {
           "data_format": "npy",
           "data_url": null,
           "dataset_type": "cwStimOn.contrastRight",
           "id": "0a52d776-c250-43e1-9525-239f3b1d8c8b",
           "name": "cwStimOn.contrastRight.npy",
           "url": "https://alyx-dev.cortexlab.net/datasets/0a52d776-c250-43e1-9525-239f3b1d8c8b"
          },
          {
           "data_format": "npy",
           "data_url": null,
           "dataset_type": "cwStimOn.times",
           "id": "32801c5e-6003-439d-adab-4f91fdf275bb",
           "name": "cwStimOn.times.npy",
           "url": "https://alyx-dev.cortexlab.net/datasets/32801c5e-6003-439d-adab-4f91fdf275bb"
          },
          {
           "data_format": "npy",
           "data_url": null,
           "dataset_type": "cwTrials.inclTrials",
           "id": "3d1bf142-800f-4511-9312-1e36b03ddd55",
           "name": "cwTrials.inclTrials.npy",
           "url": "https://alyx-dev.cortexlab.net/datasets/3d1bf142-800f-4511-9312-1e36b03ddd55"
          },
          {
           "data_format": "npy",
           "data_url": null,
           "dataset_type": "cwTrials.intervals",
           "id": "6d7855ec-1002-40e7-aa82-64efe31022cd",
           "name": "cwTrials.intervals.npy",
           "url": "https://alyx-dev.cortexlab.net/datasets/6d7855ec-1002-40e7-aa82-64efe31022cd"
          },
          {
           "data_format": "npy",
           "data_url": null,
           "dataset_type": "cwTrials.repNum",
           "id": "3ab14c99-fb2f-41b9-8627-46f9123eb01f",
           "name": "cwTrials.repNum.npy",
           "url": "https://alyx-dev.cortexlab.net/datasets/3ab14c99-fb2f-41b9-8627-46f9123eb01f"
          },
          {
           "data_format": "m",
           "data_url": null,
           "dataset_type": "expDefinition",
           "id": "afbc6ae3-4776-423c-93d4-37af92bd8f6f",
           "name": "2018-05-21_2_DJ009_expDef.m",
           "url": "https://alyx-dev.cortexlab.net/datasets/afbc6ae3-4776-423c-93d4-37af92bd8f6f"
          },
          {
           "data_format": "mat",
           "data_url": null,
           "dataset_type": "Block",
           "id": "21f4ea2e-25f7-4823-947a-bb59ba00d586",
           "name": "2018-05-21_2_DJ009_Block.mat",
           "url": "https://alyx-dev.cortexlab.net/datasets/21f4ea2e-25f7-4823-947a-bb59ba00d586"
          },
          {
           "data_format": "json",
           "data_url": null,
           "dataset_type": "Parameters",
           "id": "2c461708-6998-47b1-a85a-4a61905c24b9",
           "name": "2018-05-21_2_DJ009_parameters.json",
           "url": "https://alyx-dev.cortexlab.net/datasets/2c461708-6998-47b1-a85a-4a61905c24b9"
          },
          {
           "data_format": "json",
           "data_url": null,
           "dataset_type": "Hardware Info",
           "id": "5c442087-a6a5-4267-8075-1b355d63b43f",
           "name": "2018-05-21_2_DJ009_hardwareInfo.json",
           "url": "https://alyx-dev.cortexlab.net/datasets/5c442087-a6a5-4267-8075-1b355d63b43f"
          }
         ],
         "end_time": "2018-05-21T10:58:04",
         "location": null,
         "narrative": "Mouse performing okay",
         "number": 2,
         "parent_session": "https://alyx-dev.cortexlab.net/sessions/c1cd49d7-5ac5-4d22-a5e1-ac60f8d12d1f",
         "procedures": [
          "Behavior training/tasks"
         ],
         "start_time": "2018-05-21T10:56:09",
         "subject": "DJ009",
         "type": "Experiment",
         "url": "https://alyx-dev.cortexlab.net/sessions/7f9d4aeb-58e8-4638-a7ba-1ed8870d62a7",
         "users": [
          "miles"
         ]
        }
       ]
      },
      "text/plain": [
       "<IPython.core.display.JSON object>"
      ]
     },
     "execution_count": 18,
     "metadata": {
      "application/json": {
       "expanded": false
      }
     },
     "output_type": "execute_result"
    }
   ],
   "source": [
    "get(BASEURL + '/sessions?dataset_types=wheel.position')"
   ]
  },
  {
   "cell_type": "markdown",
   "metadata": {},
   "source": [
    "## Downloading the data"
   ]
  },
  {
   "cell_type": "code",
   "execution_count": null,
   "metadata": {},
   "outputs": [],
   "source": []
  },
  {
   "cell_type": "markdown",
   "metadata": {},
   "source": [
    "Here is a little function to download a file from a URL, using HTTP Basic authentication."
   ]
  },
  {
   "cell_type": "code",
   "execution_count": 21,
   "metadata": {
    "collapsed": true
   },
   "outputs": [],
   "source": [
    "def download(url):\n",
    "    with BytesIO() as f:\n",
    "        f.write(requests.get(url, auth=(FLATIRONLOGIN, FLATIRONPWD)).content)\n",
    "        f.seek(0)\n",
    "        return np.load(f)"
   ]
  },
  {
   "cell_type": "code",
   "execution_count": 27,
   "metadata": {
    "collapsed": true
   },
   "outputs": [],
   "source": [
    "pos = download(\"http://ibl.flatironinstitute.org/cortexlab/Subjects/MW48/2018-04-19/1/Wheel.position.a3ac23dc-edf0-45c7-892d-cc65958fa361.npy\")\n",
    "#time = download(\"http://ibl.flatironinstitute.org/cortexlab/Subjects/MW48/2018-04-19/1/Wheel.timestamps.6b2909fa-f775-45a7-9712-a105eeab3fdc.npy\")\n",
    "#velocity = download(\"http://ibl.flatironinstitute.org/cortexlab/Subjects/MW48/2018-04-19/1/Wheel.velocity.121ccf4c-37c8-407a-a7c9-7037460914d0.npy\")"
   ]
  },
  {
   "cell_type": "code",
   "execution_count": 29,
   "metadata": {},
   "outputs": [
    {
     "data": {
      "text/plain": [
       "array([[  80.68861663],\n",
       "       [  79.99909226],\n",
       "       [  79.89447477],\n",
       "       ..., \n",
       "       [-810.47169297],\n",
       "       [-810.47169297],\n",
       "       [-810.47169297]])"
      ]
     },
     "execution_count": 29,
     "metadata": {},
     "output_type": "execute_result"
    }
   ],
   "source": [
    "pos"
   ]
  },
  {
   "cell_type": "markdown",
   "metadata": {},
   "source": [
    "## Plotting the data"
   ]
  },
  {
   "cell_type": "code",
   "execution_count": 30,
   "metadata": {},
   "outputs": [
    {
     "data": {
      "text/plain": [
       "[<matplotlib.lines.Line2D at 0x118406240>]"
      ]
     },
     "execution_count": 30,
     "metadata": {},
     "output_type": "execute_result"
    },
    {
     "data": {
      "image/png": "[encoded data removed]",
      "text/plain": [
       "<matplotlib.figure.Figure at 0x116e2fe80>"
      ]
     },
     "metadata": {},
     "output_type": "display_data"
    }
   ],
   "source": [
    "plt.plot(pos)"
   ]
  },
  {
   "cell_type": "code",
   "execution_count": null,
   "metadata": {},
   "outputs": [],
   "source": []
  }
 ],
 "metadata": {
  "kernelspec": {
   "display_name": "Python 3",
   "language": "python",
   "name": "python3"
  },
  "language_info": {
   "codemirror_mode": {
    "name": "ipython",
    "version": 3
   },
   "file_extension": ".py",
   "mimetype": "text/x-python",
   "name": "python",
   "nbconvert_exporter": "python",
   "pygments_lexer": "ipython3",
   "version": "3.6.1"
  }
 },
 "nbformat": 4,
 "nbformat_minor": 2
}
